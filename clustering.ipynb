{
 "cells": [
  {
   "cell_type": "markdown",
   "metadata": {},
   "source": [
    "# Clustering of e-commerce customers \n",
    "\n",
    "The goal is to test multiple unsupervised ML clustering algorithms and to create customer segmentation of brazilian e-commerce platform Olist Store, based on their transactions. \n",
    "The following algorithms are included: ...\n",
    "\n",
    "Clustering allows for the creation of finite subsets of elements with similar characteristics, which allows to define their nature and to make rational business decisions based on it, for example by properly targeting marketing campaigns. One of the flagship examples of clustering is grouping customers according to the similarity of the products they purchase or the number of completed transactions, which is especially possible in electronic commerce, where the data is stored and processed continuously.\n",
    "\n",
    "The dataset has information of 100k orders from 2016 to 2018 made at multiple marketplaces in Brazil. It was provided by Olist, the largest department store in Brazilian marketplaces. Olist connects small businesses from all over Brazil, which allows them to sell their products through the Olist Store and ship them directly to the customers using Olist logistics partners.\n",
    "\n",
    "The dataset is available publicly under CC BY-NC-SA 4.0 license. Further information can be found at https://www.kaggle.com/datasets/olistbr/brazilian-ecommerce.\n"
   ]
  },
  {
   "cell_type": "code",
   "execution_count": 1,
   "metadata": {},
   "outputs": [],
   "source": [
    "import os\n",
    "import pandas as pd\n",
    "import sklearn\n",
    "import numpy as np\n",
    "import matplotlib.pyplot as plt\n",
    "import seaborn as sns"
   ]
  },
  {
   "cell_type": "code",
   "execution_count": 24,
   "metadata": {},
   "outputs": [],
   "source": [
    "# Reading\n",
    "dt_orders = pd.read_csv('data/olist_orders_dataset.csv', parse_dates=True)\n",
    "dt_pay = pd.read_csv('data/olist_order_payments_dataset.csv', parse_dates=True)\n",
    "dt_rev = pd.read_csv('data/olist_order_reviews_dataset.csv', parse_dates=True)\n",
    "dt_items = pd.read_csv('data/olist_order_items_dataset.csv', parse_dates=True)\n",
    "dt_prod = pd.read_csv('data/olist_products_dataset.csv', parse_dates=True)\n",
    "dt_cust = pd.read_csv('data/olist_customers_dataset.csv', parse_dates=True)\n",
    "dt_translation = pd.read_csv('data/product_category_name_translation.csv', parse_dates=True)\n",
    "# dt_sellers = pd.read_csv('data/olist_sellers_dataset.csv', parse_dates=True)\n",
    "\n",
    "# Joining chosen dfs & columns \n",
    "full_df = dt_orders[['order_id', 'customer_id', 'order_status', 'order_purchase_timestamp',]]\\\n",
    "    .merge(dt_items[['order_id', 'product_id', 'price', 'freight_value']], on='order_id', how='inner')\\\n",
    "    .merge(dt_prod[['product_id', 'product_category_name']], on='product_id', how='left')\\\n",
    "    .merge(dt_translation, on='product_category_name', how='left')\\\n",
    "    .drop('product_category_name', axis=1)"
   ]
  },
  {
   "cell_type": "code",
   "execution_count": 5,
   "metadata": {},
   "outputs": [
    {
     "data": {
      "text/html": [
       "<div>\n",
       "<style scoped>\n",
       "    .dataframe tbody tr th:only-of-type {\n",
       "        vertical-align: middle;\n",
       "    }\n",
       "\n",
       "    .dataframe tbody tr th {\n",
       "        vertical-align: top;\n",
       "    }\n",
       "\n",
       "    .dataframe thead th {\n",
       "        text-align: right;\n",
       "    }\n",
       "</style>\n",
       "<table border=\"1\" class=\"dataframe\">\n",
       "  <thead>\n",
       "    <tr style=\"text-align: right;\">\n",
       "      <th></th>\n",
       "      <th>order_id</th>\n",
       "      <th>customer_id</th>\n",
       "      <th>order_status</th>\n",
       "      <th>order_purchase_timestamp</th>\n",
       "      <th>product_id</th>\n",
       "      <th>price</th>\n",
       "      <th>freight_value</th>\n",
       "      <th>product_category_name_english</th>\n",
       "    </tr>\n",
       "  </thead>\n",
       "  <tbody>\n",
       "    <tr>\n",
       "      <th>0</th>\n",
       "      <td>e481f51cbdc54678b7cc49136f2d6af7</td>\n",
       "      <td>9ef432eb6251297304e76186b10a928d</td>\n",
       "      <td>delivered</td>\n",
       "      <td>2017-10-02 10:56:33</td>\n",
       "      <td>87285b34884572647811a353c7ac498a</td>\n",
       "      <td>29.99</td>\n",
       "      <td>8.72</td>\n",
       "      <td>housewares</td>\n",
       "    </tr>\n",
       "    <tr>\n",
       "      <th>1</th>\n",
       "      <td>53cdb2fc8bc7dce0b6741e2150273451</td>\n",
       "      <td>b0830fb4747a6c6d20dea0b8c802d7ef</td>\n",
       "      <td>delivered</td>\n",
       "      <td>2018-07-24 20:41:37</td>\n",
       "      <td>595fac2a385ac33a80bd5114aec74eb8</td>\n",
       "      <td>118.70</td>\n",
       "      <td>22.76</td>\n",
       "      <td>perfumery</td>\n",
       "    </tr>\n",
       "    <tr>\n",
       "      <th>2</th>\n",
       "      <td>47770eb9100c2d0c44946d9cf07ec65d</td>\n",
       "      <td>41ce2a54c0b03bf3443c3d931a367089</td>\n",
       "      <td>delivered</td>\n",
       "      <td>2018-08-08 08:38:49</td>\n",
       "      <td>aa4383b373c6aca5d8797843e5594415</td>\n",
       "      <td>159.90</td>\n",
       "      <td>19.22</td>\n",
       "      <td>auto</td>\n",
       "    </tr>\n",
       "    <tr>\n",
       "      <th>3</th>\n",
       "      <td>949d5b44dbf5de918fe9c16f97b45f8a</td>\n",
       "      <td>f88197465ea7920adcdbec7375364d82</td>\n",
       "      <td>delivered</td>\n",
       "      <td>2017-11-18 19:28:06</td>\n",
       "      <td>d0b61bfb1de832b15ba9d266ca96e5b0</td>\n",
       "      <td>45.00</td>\n",
       "      <td>27.20</td>\n",
       "      <td>pet_shop</td>\n",
       "    </tr>\n",
       "    <tr>\n",
       "      <th>4</th>\n",
       "      <td>ad21c59c0840e6cb83a9ceb5573f8159</td>\n",
       "      <td>8ab97904e6daea8866dbdbc4fb7aad2c</td>\n",
       "      <td>delivered</td>\n",
       "      <td>2018-02-13 21:18:39</td>\n",
       "      <td>65266b2da20d04dbe00c5c2d3bb7859e</td>\n",
       "      <td>19.90</td>\n",
       "      <td>8.72</td>\n",
       "      <td>stationery</td>\n",
       "    </tr>\n",
       "  </tbody>\n",
       "</table>\n",
       "</div>"
      ],
      "text/plain": [
       "                           order_id                       customer_id  \\\n",
       "0  e481f51cbdc54678b7cc49136f2d6af7  9ef432eb6251297304e76186b10a928d   \n",
       "1  53cdb2fc8bc7dce0b6741e2150273451  b0830fb4747a6c6d20dea0b8c802d7ef   \n",
       "2  47770eb9100c2d0c44946d9cf07ec65d  41ce2a54c0b03bf3443c3d931a367089   \n",
       "3  949d5b44dbf5de918fe9c16f97b45f8a  f88197465ea7920adcdbec7375364d82   \n",
       "4  ad21c59c0840e6cb83a9ceb5573f8159  8ab97904e6daea8866dbdbc4fb7aad2c   \n",
       "\n",
       "  order_status order_purchase_timestamp                        product_id  \\\n",
       "0    delivered      2017-10-02 10:56:33  87285b34884572647811a353c7ac498a   \n",
       "1    delivered      2018-07-24 20:41:37  595fac2a385ac33a80bd5114aec74eb8   \n",
       "2    delivered      2018-08-08 08:38:49  aa4383b373c6aca5d8797843e5594415   \n",
       "3    delivered      2017-11-18 19:28:06  d0b61bfb1de832b15ba9d266ca96e5b0   \n",
       "4    delivered      2018-02-13 21:18:39  65266b2da20d04dbe00c5c2d3bb7859e   \n",
       "\n",
       "    price  freight_value product_category_name_english  \n",
       "0   29.99           8.72                    housewares  \n",
       "1  118.70          22.76                     perfumery  \n",
       "2  159.90          19.22                          auto  \n",
       "3   45.00          27.20                      pet_shop  \n",
       "4   19.90           8.72                    stationery  "
      ]
     },
     "execution_count": 5,
     "metadata": {},
     "output_type": "execute_result"
    }
   ],
   "source": [
    "full_df.head()"
   ]
  },
  {
   "cell_type": "markdown",
   "metadata": {},
   "source": [
    "### Exploratory data analysis"
   ]
  },
  {
   "cell_type": "code",
   "execution_count": 12,
   "metadata": {},
   "outputs": [
    {
     "name": "stdout",
     "output_type": "stream",
     "text": [
      "(99441, 8)\n",
      "(112650, 8)\n",
      "Max number of the same items bought at once:  order_item_id    21\n",
      "dtype: int64\n"
     ]
    }
   ],
   "source": [
    "# Shape:\n",
    "for df in [dt_orders, full_df]:\n",
    "    print(df.shape)\n",
    "\n",
    "print(\"Max number of the same items bought at once: \", dt_items[['order_id', 'order_item_id']].groupby(['order_id']).count().max())"
   ]
  },
  {
   "cell_type": "markdown",
   "metadata": {},
   "source": [
    "After merging the dataset grew by ~12k rows. After inspection, this is due to purchases with multiple products (for example 2 items at the same time by the same customer).\n",
    "Because any purchase is relevant, these observations are left and each item is treated as a separate transaction. "
   ]
  },
  {
   "cell_type": "code",
   "execution_count": 25,
   "metadata": {},
   "outputs": [
    {
     "data": {
      "text/plain": [
       "order_id                            0\n",
       "customer_id                         0\n",
       "order_status                        0\n",
       "order_purchase_timestamp            0\n",
       "product_id                          0\n",
       "price                               0\n",
       "freight_value                       0\n",
       "product_category_name_english    1627\n",
       "dtype: int64"
      ]
     },
     "execution_count": 25,
     "metadata": {},
     "output_type": "execute_result"
    }
   ],
   "source": [
    "full_df.isnull().sum()"
   ]
  },
  {
   "cell_type": "code",
   "execution_count": 26,
   "metadata": {},
   "outputs": [
    {
     "data": {
      "text/html": [
       "<div>\n",
       "<style scoped>\n",
       "    .dataframe tbody tr th:only-of-type {\n",
       "        vertical-align: middle;\n",
       "    }\n",
       "\n",
       "    .dataframe tbody tr th {\n",
       "        vertical-align: top;\n",
       "    }\n",
       "\n",
       "    .dataframe thead th {\n",
       "        text-align: right;\n",
       "    }\n",
       "</style>\n",
       "<table border=\"1\" class=\"dataframe\">\n",
       "  <thead>\n",
       "    <tr style=\"text-align: right;\">\n",
       "      <th></th>\n",
       "      <th>order_id</th>\n",
       "      <th>customer_id</th>\n",
       "      <th>order_status</th>\n",
       "      <th>order_purchase_timestamp</th>\n",
       "      <th>product_id</th>\n",
       "      <th>price</th>\n",
       "      <th>freight_value</th>\n",
       "      <th>product_category_name_english</th>\n",
       "    </tr>\n",
       "  </thead>\n",
       "  <tbody>\n",
       "    <tr>\n",
       "      <th>6</th>\n",
       "      <td>136cce7faa42fdb2cefd53fdc79a6098</td>\n",
       "      <td>ed0271e0b7da060a393796590e7b737a</td>\n",
       "      <td>invoiced</td>\n",
       "      <td>2017-04-11 12:22:08</td>\n",
       "      <td>a1804276d9941ac0733cfd409f5206eb</td>\n",
       "      <td>49.90</td>\n",
       "      <td>16.05</td>\n",
       "      <td>NaN</td>\n",
       "    </tr>\n",
       "    <tr>\n",
       "      <th>122</th>\n",
       "      <td>bfe42c22ecbf90bc9f35cf591270b6a7</td>\n",
       "      <td>803ac05904124294f8767894d6da532b</td>\n",
       "      <td>delivered</td>\n",
       "      <td>2018-01-27 22:04:34</td>\n",
       "      <td>71225f49be70df4297892f6a5fa62171</td>\n",
       "      <td>27.30</td>\n",
       "      <td>15.10</td>\n",
       "      <td>NaN</td>\n",
       "    </tr>\n",
       "    <tr>\n",
       "      <th>212</th>\n",
       "      <td>58ac1947c1a9067b9f416cba6d844a3f</td>\n",
       "      <td>ee8e1d37f563ecc11cc4dcb4dfd794c2</td>\n",
       "      <td>delivered</td>\n",
       "      <td>2017-09-13 09:18:50</td>\n",
       "      <td>9820e04e332fc450d6fd975befc1bc28</td>\n",
       "      <td>110.00</td>\n",
       "      <td>14.16</td>\n",
       "      <td>NaN</td>\n",
       "    </tr>\n",
       "    <tr>\n",
       "      <th>264</th>\n",
       "      <td>e22b71f6e4a481445ec4527cb4c405f7</td>\n",
       "      <td>1faf89c8f142db3fca6cf314c51a37b6</td>\n",
       "      <td>delivered</td>\n",
       "      <td>2017-04-22 13:48:18</td>\n",
       "      <td>3bc5164bc7f4be77002d6651da65c98c</td>\n",
       "      <td>22.50</td>\n",
       "      <td>11.74</td>\n",
       "      <td>NaN</td>\n",
       "    </tr>\n",
       "    <tr>\n",
       "      <th>303</th>\n",
       "      <td>a094215e786240fcfefb83d18036a1cd</td>\n",
       "      <td>86acfb656743da0c113d176832c9d535</td>\n",
       "      <td>delivered</td>\n",
       "      <td>2018-02-08 18:56:45</td>\n",
       "      <td>5a848e4ab52fd5445cdc07aab1c40e48</td>\n",
       "      <td>122.99</td>\n",
       "      <td>9.06</td>\n",
       "      <td>NaN</td>\n",
       "    </tr>\n",
       "    <tr>\n",
       "      <th>...</th>\n",
       "      <td>...</td>\n",
       "      <td>...</td>\n",
       "      <td>...</td>\n",
       "      <td>...</td>\n",
       "      <td>...</td>\n",
       "      <td>...</td>\n",
       "      <td>...</td>\n",
       "      <td>...</td>\n",
       "    </tr>\n",
       "    <tr>\n",
       "      <th>112228</th>\n",
       "      <td>1a10e938a1c7d8e5eecc3380f71ca76b</td>\n",
       "      <td>8a81607347c25d881d995d94de6ad824</td>\n",
       "      <td>delivered</td>\n",
       "      <td>2018-07-25 08:58:35</td>\n",
       "      <td>8d39a63db6a98e40571f486e0c711cf7</td>\n",
       "      <td>127.20</td>\n",
       "      <td>18.99</td>\n",
       "      <td>NaN</td>\n",
       "    </tr>\n",
       "    <tr>\n",
       "      <th>112397</th>\n",
       "      <td>e33865519137f5737444109ae8438633</td>\n",
       "      <td>64b086bdcc54458af3ea3bd838db54a5</td>\n",
       "      <td>delivered</td>\n",
       "      <td>2018-05-28 00:44:06</td>\n",
       "      <td>e9cbc0910ab050cbd92fbeb051c270ea</td>\n",
       "      <td>33.85</td>\n",
       "      <td>8.29</td>\n",
       "      <td>NaN</td>\n",
       "    </tr>\n",
       "    <tr>\n",
       "      <th>112404</th>\n",
       "      <td>f0dd9af88d8ef5a8e4670fbbedaf19c4</td>\n",
       "      <td>30ddb50bd22ee927ebe308ea3da60735</td>\n",
       "      <td>delivered</td>\n",
       "      <td>2017-09-02 20:38:29</td>\n",
       "      <td>0c877471e35049402bca235e06cb8063</td>\n",
       "      <td>84.90</td>\n",
       "      <td>15.35</td>\n",
       "      <td>NaN</td>\n",
       "    </tr>\n",
       "    <tr>\n",
       "      <th>112410</th>\n",
       "      <td>272874573723eec18f23c0471927d778</td>\n",
       "      <td>48e080c8001e92ebea2b64e474f91a60</td>\n",
       "      <td>delivered</td>\n",
       "      <td>2017-12-20 23:10:33</td>\n",
       "      <td>5a848e4ab52fd5445cdc07aab1c40e48</td>\n",
       "      <td>122.99</td>\n",
       "      <td>9.06</td>\n",
       "      <td>NaN</td>\n",
       "    </tr>\n",
       "    <tr>\n",
       "      <th>112427</th>\n",
       "      <td>dff2b9b8d7cfc595836945e1443789c3</td>\n",
       "      <td>2436fb2666a65fbacae82532e797cabf</td>\n",
       "      <td>delivered</td>\n",
       "      <td>2018-07-16 12:59:02</td>\n",
       "      <td>bfa0e398bef2d28bb421d42997982cab</td>\n",
       "      <td>219.99</td>\n",
       "      <td>15.13</td>\n",
       "      <td>NaN</td>\n",
       "    </tr>\n",
       "  </tbody>\n",
       "</table>\n",
       "<p>1627 rows × 8 columns</p>\n",
       "</div>"
      ],
      "text/plain": [
       "                                order_id                       customer_id  \\\n",
       "6       136cce7faa42fdb2cefd53fdc79a6098  ed0271e0b7da060a393796590e7b737a   \n",
       "122     bfe42c22ecbf90bc9f35cf591270b6a7  803ac05904124294f8767894d6da532b   \n",
       "212     58ac1947c1a9067b9f416cba6d844a3f  ee8e1d37f563ecc11cc4dcb4dfd794c2   \n",
       "264     e22b71f6e4a481445ec4527cb4c405f7  1faf89c8f142db3fca6cf314c51a37b6   \n",
       "303     a094215e786240fcfefb83d18036a1cd  86acfb656743da0c113d176832c9d535   \n",
       "...                                  ...                               ...   \n",
       "112228  1a10e938a1c7d8e5eecc3380f71ca76b  8a81607347c25d881d995d94de6ad824   \n",
       "112397  e33865519137f5737444109ae8438633  64b086bdcc54458af3ea3bd838db54a5   \n",
       "112404  f0dd9af88d8ef5a8e4670fbbedaf19c4  30ddb50bd22ee927ebe308ea3da60735   \n",
       "112410  272874573723eec18f23c0471927d778  48e080c8001e92ebea2b64e474f91a60   \n",
       "112427  dff2b9b8d7cfc595836945e1443789c3  2436fb2666a65fbacae82532e797cabf   \n",
       "\n",
       "       order_status order_purchase_timestamp  \\\n",
       "6          invoiced      2017-04-11 12:22:08   \n",
       "122       delivered      2018-01-27 22:04:34   \n",
       "212       delivered      2017-09-13 09:18:50   \n",
       "264       delivered      2017-04-22 13:48:18   \n",
       "303       delivered      2018-02-08 18:56:45   \n",
       "...             ...                      ...   \n",
       "112228    delivered      2018-07-25 08:58:35   \n",
       "112397    delivered      2018-05-28 00:44:06   \n",
       "112404    delivered      2017-09-02 20:38:29   \n",
       "112410    delivered      2017-12-20 23:10:33   \n",
       "112427    delivered      2018-07-16 12:59:02   \n",
       "\n",
       "                              product_id   price  freight_value  \\\n",
       "6       a1804276d9941ac0733cfd409f5206eb   49.90          16.05   \n",
       "122     71225f49be70df4297892f6a5fa62171   27.30          15.10   \n",
       "212     9820e04e332fc450d6fd975befc1bc28  110.00          14.16   \n",
       "264     3bc5164bc7f4be77002d6651da65c98c   22.50          11.74   \n",
       "303     5a848e4ab52fd5445cdc07aab1c40e48  122.99           9.06   \n",
       "...                                  ...     ...            ...   \n",
       "112228  8d39a63db6a98e40571f486e0c711cf7  127.20          18.99   \n",
       "112397  e9cbc0910ab050cbd92fbeb051c270ea   33.85           8.29   \n",
       "112404  0c877471e35049402bca235e06cb8063   84.90          15.35   \n",
       "112410  5a848e4ab52fd5445cdc07aab1c40e48  122.99           9.06   \n",
       "112427  bfa0e398bef2d28bb421d42997982cab  219.99          15.13   \n",
       "\n",
       "       product_category_name_english  \n",
       "6                                NaN  \n",
       "122                              NaN  \n",
       "212                              NaN  \n",
       "264                              NaN  \n",
       "303                              NaN  \n",
       "...                              ...  \n",
       "112228                           NaN  \n",
       "112397                           NaN  \n",
       "112404                           NaN  \n",
       "112410                           NaN  \n",
       "112427                           NaN  \n",
       "\n",
       "[1627 rows x 8 columns]"
      ]
     },
     "execution_count": 26,
     "metadata": {},
     "output_type": "execute_result"
    }
   ],
   "source": [
    "full_df[full_df.isnull().any(axis=1)]"
   ]
  },
  {
   "cell_type": "code",
   "execution_count": 28,
   "metadata": {},
   "outputs": [
    {
     "data": {
      "text/plain": [
       "71"
      ]
     },
     "execution_count": 28,
     "metadata": {},
     "output_type": "execute_result"
    }
   ],
   "source": [
    "full_df.product_category_name_english.nunique()"
   ]
  },
  {
   "cell_type": "markdown",
   "metadata": {},
   "source": [
    "The dataframe has some missing values for product types, which is a categorical variable with 71 different values. The provided information in the dataset does not allow to 'find' and perform imputation in place of the missing ones, but regardless, many clustering algorithms cannot accept categorical variables due to how they work (like the basic k-means). For this reason, right now this column is not a problem and dropping the nulls is not required (would cause losing 1% of data).\n",
    "\n",
    "However, this categorical variable variable is used later on and the missing values are there addressed.  "
   ]
  },
  {
   "cell_type": "code",
   "execution_count": null,
   "metadata": {},
   "outputs": [],
   "source": []
  },
  {
   "cell_type": "code",
   "execution_count": 27,
   "metadata": {},
   "outputs": [
    {
     "data": {
      "text/plain": [
       "71"
      ]
     },
     "execution_count": 27,
     "metadata": {},
     "output_type": "execute_result"
    }
   ],
   "source": []
  }
 ],
 "metadata": {
  "interpreter": {
   "hash": "aee8b7b246df8f9039afb4144a1f6fd8d2ca17a180786b69acc140d282b71a49"
  },
  "kernelspec": {
   "display_name": "Python 3.8.2 64-bit",
   "language": "python",
   "name": "python3"
  },
  "language_info": {
   "codemirror_mode": {
    "name": "ipython",
    "version": 3
   },
   "file_extension": ".py",
   "mimetype": "text/x-python",
   "name": "python",
   "nbconvert_exporter": "python",
   "pygments_lexer": "ipython3",
   "version": "3.8.2"
  },
  "orig_nbformat": 4
 },
 "nbformat": 4,
 "nbformat_minor": 2
}
