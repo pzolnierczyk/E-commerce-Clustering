{
 "cells": [
  {
   "cell_type": "markdown",
   "metadata": {},
   "source": [
    "# Clustering of e-commerce customers \n",
    "\n",
    "The goal is to test multiple unsupervised ML clustering algorithms and to create customer segmentation of brazilian e-commerce platform Olist Store, based on their transactions. \n",
    "The following algorithms are included: ...\n",
    "\n",
    "Clustering allows for the creation of finite subsets of elements with similar characteristics, which allows to define their nature and to make rational business decisions based on it, for example by properly targeting marketing campaigns. One of the flagship examples of clustering is grouping customers according to the similarity of the products they purchase or the number of completed transactions, which is especially possible in electronic commerce, where the data is stored and processed continuously.\n",
    "\n",
    "The dataset has information of 100k orders from 2016 to 2018 made at multiple marketplaces in Brazil. It was provided by Olist, the largest department store in Brazilian marketplaces. Olist connects small businesses from all over Brazil, which allows them to sell their products through the Olist Store and ship them directly to the customers using Olist logistics partners.\n",
    "\n",
    "The dataset is available publicly under CC BY-NC-SA 4.0 license. Further information can be found at https://www.kaggle.com/datasets/olistbr/brazilian-ecommerce.\n"
   ]
  },
  {
   "cell_type": "code",
   "execution_count": 2,
   "metadata": {},
   "outputs": [],
   "source": [
    "import os\n",
    "import pandas as pd\n",
    "import sklearn\n",
    "import numpy as np\n",
    "import matplotlib.pyplot as plt\n",
    "import seaborn as sns"
   ]
  },
  {
   "cell_type": "code",
   "execution_count": 226,
   "metadata": {},
   "outputs": [],
   "source": [
    "# Reading\n",
    "dt_orders = pd.read_csv('data/olist_orders_dataset.csv', parse_dates=True)\n",
    "dt_pay = pd.read_csv('data/olist_order_payments_dataset.csv', parse_dates=True)\n",
    "dt_rev = pd.read_csv('data/olist_order_reviews_dataset.csv', parse_dates=True)\n",
    "dt_items = pd.read_csv('data/olist_order_items_dataset.csv', parse_dates=True)\n",
    "dt_prod = pd.read_csv('data/olist_products_dataset.csv', parse_dates=True)\n",
    "dt_cust = pd.read_csv('data/olist_customers_dataset.csv', parse_dates=True)\n",
    "dt_translation = pd.read_csv('data/product_category_name_translation.csv', parse_dates=True)\n",
    "# dt_sellers = pd.read_csv('data/olist_sellers_dataset.csv', parse_dates=True)\n",
    "\n",
    "# Joining \n",
    "full_df = dt_orders\\\n",
    "    .merge(dt_items, on='order_id', how='inner')\\\n",
    "    .merge(dt_prod, on='product_id', how='left')\\\n",
    "    .merge(dt_translation, on='product_category_name', how='left')\\\n",
    "    .drop('product_category_name', axis=1) #in portuguese"
   ]
  },
  {
   "cell_type": "code",
   "execution_count": 4,
   "metadata": {},
   "outputs": [
    {
     "name": "stdout",
     "output_type": "stream",
     "text": [
      "                           order_id                       customer_id  \\\n",
      "0  e481f51cbdc54678b7cc49136f2d6af7  9ef432eb6251297304e76186b10a928d   \n",
      "1  53cdb2fc8bc7dce0b6741e2150273451  b0830fb4747a6c6d20dea0b8c802d7ef   \n",
      "2  47770eb9100c2d0c44946d9cf07ec65d  41ce2a54c0b03bf3443c3d931a367089   \n",
      "3  949d5b44dbf5de918fe9c16f97b45f8a  f88197465ea7920adcdbec7375364d82   \n",
      "4  ad21c59c0840e6cb83a9ceb5573f8159  8ab97904e6daea8866dbdbc4fb7aad2c   \n",
      "\n",
      "  order_status order_purchase_timestamp    order_approved_at  \\\n",
      "0    delivered      2017-10-02 10:56:33  2017-10-02 11:07:15   \n",
      "1    delivered      2018-07-24 20:41:37  2018-07-26 03:24:27   \n",
      "2    delivered      2018-08-08 08:38:49  2018-08-08 08:55:23   \n",
      "3    delivered      2017-11-18 19:28:06  2017-11-18 19:45:59   \n",
      "4    delivered      2018-02-13 21:18:39  2018-02-13 22:20:29   \n",
      "\n",
      "  order_delivered_carrier_date order_delivered_customer_date  \\\n",
      "0          2017-10-04 19:55:00           2017-10-10 21:25:13   \n",
      "1          2018-07-26 14:31:00           2018-08-07 15:27:45   \n",
      "2          2018-08-08 13:50:00           2018-08-17 18:06:29   \n",
      "3          2017-11-22 13:39:59           2017-12-02 00:28:42   \n",
      "4          2018-02-14 19:46:34           2018-02-16 18:17:02   \n",
      "\n",
      "  order_estimated_delivery_date  order_item_id  \\\n",
      "0           2017-10-18 00:00:00              1   \n",
      "1           2018-08-13 00:00:00              1   \n",
      "2           2018-09-04 00:00:00              1   \n",
      "3           2017-12-15 00:00:00              1   \n",
      "4           2018-02-26 00:00:00              1   \n",
      "\n",
      "                         product_id                         seller_id  \\\n",
      "0  87285b34884572647811a353c7ac498a  3504c0cb71d7fa48d967e0e4c94d59d9   \n",
      "1  595fac2a385ac33a80bd5114aec74eb8  289cdb325fb7e7f891c38608bf9e0962   \n",
      "2  aa4383b373c6aca5d8797843e5594415  4869f7a5dfa277a7dca6462dcf3b52b2   \n",
      "3  d0b61bfb1de832b15ba9d266ca96e5b0  66922902710d126a0e7d26b0e3805106   \n",
      "4  65266b2da20d04dbe00c5c2d3bb7859e  2c9e548be18521d1c43cde1c582c6de8   \n",
      "\n",
      "   shipping_limit_date   price  freight_value  product_name_lenght  \\\n",
      "0  2017-10-06 11:07:15   29.99           8.72                 40.0   \n",
      "1  2018-07-30 03:24:27  118.70          22.76                 29.0   \n",
      "2  2018-08-13 08:55:23  159.90          19.22                 46.0   \n",
      "3  2017-11-23 19:45:59   45.00          27.20                 59.0   \n",
      "4  2018-02-19 20:31:37   19.90           8.72                 38.0   \n",
      "\n",
      "   product_description_lenght  product_photos_qty  product_weight_g  \\\n",
      "0                       268.0                 4.0             500.0   \n",
      "1                       178.0                 1.0             400.0   \n",
      "2                       232.0                 1.0             420.0   \n",
      "3                       468.0                 3.0             450.0   \n",
      "4                       316.0                 4.0             250.0   \n",
      "\n",
      "   product_length_cm  product_height_cm  product_width_cm  \\\n",
      "0               19.0                8.0              13.0   \n",
      "1               19.0               13.0              19.0   \n",
      "2               24.0               19.0              21.0   \n",
      "3               30.0               10.0              20.0   \n",
      "4               51.0               15.0              15.0   \n",
      "\n",
      "  product_category_name_english  \n",
      "0                    housewares  \n",
      "1                     perfumery  \n",
      "2                          auto  \n",
      "3                      pet_shop  \n",
      "4                    stationery  \n"
     ]
    }
   ],
   "source": [
    "with pd.option_context('display.max_columns', None):\n",
    "    print (full_df.head())"
   ]
  },
  {
   "cell_type": "markdown",
   "metadata": {},
   "source": [
    "Many details are available in the dataset and depending on the business needs, different analyses could be prepared. In this exercise I am looking if the purchases, costs and product groups can return clear groups, which can be later used for marketing and to influence the customers properly. \n",
    "\n",
    "The clustering is used for:\n",
    "1. Purchase frequency  vs ceny\n",
    "    a) często i duzo - cenni klienci, warto obserwować ich zachowanie w czasie i reagować by nie odchodzili\n",
    "    b) często i mało - to co w a) + zastanowić się jak im opchnac drozsze rzeczy  \n",
    "    c) rzadko i duzo - zaciągnać więcej danych o zachowaniu klientów w interncie i proponowć im dodatkowe rzeczy na bieząco \n",
    "    d) rzadko i mało \n",
    "2. częstość zakupów vs ceny + typ produktu \n",
    "3. typ produktu + długość opisu + purchase frequency\n",
    "\n",
    "4. częstość kupowania produktu vs cena //vs długość opisu"
   ]
  },
  {
   "cell_type": "code",
   "execution_count": 94,
   "metadata": {},
   "outputs": [
    {
     "data": {
      "text/html": [
       "<div>\n",
       "<style scoped>\n",
       "    .dataframe tbody tr th:only-of-type {\n",
       "        vertical-align: middle;\n",
       "    }\n",
       "\n",
       "    .dataframe tbody tr th {\n",
       "        vertical-align: top;\n",
       "    }\n",
       "\n",
       "    .dataframe thead th {\n",
       "        text-align: right;\n",
       "    }\n",
       "</style>\n",
       "<table border=\"1\" class=\"dataframe\">\n",
       "  <thead>\n",
       "    <tr style=\"text-align: right;\">\n",
       "      <th></th>\n",
       "      <th>order_id</th>\n",
       "      <th>customer_id</th>\n",
       "      <th>order_status</th>\n",
       "      <th>order_purchase_timestamp</th>\n",
       "      <th>product_id</th>\n",
       "      <th>price</th>\n",
       "      <th>freight_value</th>\n",
       "      <th>product_category_name_english</th>\n",
       "    </tr>\n",
       "  </thead>\n",
       "  <tbody>\n",
       "    <tr>\n",
       "      <th>0</th>\n",
       "      <td>e481f51cbdc54678b7cc49136f2d6af7</td>\n",
       "      <td>9ef432eb6251297304e76186b10a928d</td>\n",
       "      <td>delivered</td>\n",
       "      <td>2017-10-02 10:56:33</td>\n",
       "      <td>87285b34884572647811a353c7ac498a</td>\n",
       "      <td>29.99</td>\n",
       "      <td>8.72</td>\n",
       "      <td>housewares</td>\n",
       "    </tr>\n",
       "    <tr>\n",
       "      <th>1</th>\n",
       "      <td>53cdb2fc8bc7dce0b6741e2150273451</td>\n",
       "      <td>b0830fb4747a6c6d20dea0b8c802d7ef</td>\n",
       "      <td>delivered</td>\n",
       "      <td>2018-07-24 20:41:37</td>\n",
       "      <td>595fac2a385ac33a80bd5114aec74eb8</td>\n",
       "      <td>118.70</td>\n",
       "      <td>22.76</td>\n",
       "      <td>perfumery</td>\n",
       "    </tr>\n",
       "    <tr>\n",
       "      <th>2</th>\n",
       "      <td>47770eb9100c2d0c44946d9cf07ec65d</td>\n",
       "      <td>41ce2a54c0b03bf3443c3d931a367089</td>\n",
       "      <td>delivered</td>\n",
       "      <td>2018-08-08 08:38:49</td>\n",
       "      <td>aa4383b373c6aca5d8797843e5594415</td>\n",
       "      <td>159.90</td>\n",
       "      <td>19.22</td>\n",
       "      <td>auto</td>\n",
       "    </tr>\n",
       "    <tr>\n",
       "      <th>3</th>\n",
       "      <td>949d5b44dbf5de918fe9c16f97b45f8a</td>\n",
       "      <td>f88197465ea7920adcdbec7375364d82</td>\n",
       "      <td>delivered</td>\n",
       "      <td>2017-11-18 19:28:06</td>\n",
       "      <td>d0b61bfb1de832b15ba9d266ca96e5b0</td>\n",
       "      <td>45.00</td>\n",
       "      <td>27.20</td>\n",
       "      <td>pet_shop</td>\n",
       "    </tr>\n",
       "    <tr>\n",
       "      <th>4</th>\n",
       "      <td>ad21c59c0840e6cb83a9ceb5573f8159</td>\n",
       "      <td>8ab97904e6daea8866dbdbc4fb7aad2c</td>\n",
       "      <td>delivered</td>\n",
       "      <td>2018-02-13 21:18:39</td>\n",
       "      <td>65266b2da20d04dbe00c5c2d3bb7859e</td>\n",
       "      <td>19.90</td>\n",
       "      <td>8.72</td>\n",
       "      <td>stationery</td>\n",
       "    </tr>\n",
       "    <tr>\n",
       "      <th>...</th>\n",
       "      <td>...</td>\n",
       "      <td>...</td>\n",
       "      <td>...</td>\n",
       "      <td>...</td>\n",
       "      <td>...</td>\n",
       "      <td>...</td>\n",
       "      <td>...</td>\n",
       "      <td>...</td>\n",
       "    </tr>\n",
       "    <tr>\n",
       "      <th>112645</th>\n",
       "      <td>63943bddc261676b46f01ca7ac2f7bd8</td>\n",
       "      <td>1fca14ff2861355f6e5f14306ff977a7</td>\n",
       "      <td>delivered</td>\n",
       "      <td>2018-02-06 12:58:58</td>\n",
       "      <td>f1d4ce8c6dd66c47bbaa8c6781c2a923</td>\n",
       "      <td>174.90</td>\n",
       "      <td>20.10</td>\n",
       "      <td>baby</td>\n",
       "    </tr>\n",
       "    <tr>\n",
       "      <th>112646</th>\n",
       "      <td>83c1379a015df1e13d02aae0204711ab</td>\n",
       "      <td>1aa71eb042121263aafbe80c1b562c9c</td>\n",
       "      <td>delivered</td>\n",
       "      <td>2017-08-27 14:46:43</td>\n",
       "      <td>b80910977a37536adeddd63663f916ad</td>\n",
       "      <td>205.99</td>\n",
       "      <td>65.02</td>\n",
       "      <td>home_appliances_2</td>\n",
       "    </tr>\n",
       "    <tr>\n",
       "      <th>112647</th>\n",
       "      <td>11c177c8e97725db2631073c19f07b62</td>\n",
       "      <td>b331b74b18dc79bcdf6532d51e1637c1</td>\n",
       "      <td>delivered</td>\n",
       "      <td>2018-01-08 21:28:27</td>\n",
       "      <td>d1c427060a0f73f6b889a5c7c61f2ac4</td>\n",
       "      <td>179.99</td>\n",
       "      <td>40.59</td>\n",
       "      <td>computers_accessories</td>\n",
       "    </tr>\n",
       "    <tr>\n",
       "      <th>112648</th>\n",
       "      <td>11c177c8e97725db2631073c19f07b62</td>\n",
       "      <td>b331b74b18dc79bcdf6532d51e1637c1</td>\n",
       "      <td>delivered</td>\n",
       "      <td>2018-01-08 21:28:27</td>\n",
       "      <td>d1c427060a0f73f6b889a5c7c61f2ac4</td>\n",
       "      <td>179.99</td>\n",
       "      <td>40.59</td>\n",
       "      <td>computers_accessories</td>\n",
       "    </tr>\n",
       "    <tr>\n",
       "      <th>112649</th>\n",
       "      <td>66dea50a8b16d9b4dee7af250b4be1a5</td>\n",
       "      <td>edb027a75a1449115f6b43211ae02a24</td>\n",
       "      <td>delivered</td>\n",
       "      <td>2018-03-08 20:57:30</td>\n",
       "      <td>006619bbed68b000c8ba3f8725d5409e</td>\n",
       "      <td>68.50</td>\n",
       "      <td>18.36</td>\n",
       "      <td>health_beauty</td>\n",
       "    </tr>\n",
       "  </tbody>\n",
       "</table>\n",
       "<p>112650 rows × 8 columns</p>\n",
       "</div>"
      ],
      "text/plain": [
       "                                order_id                       customer_id  \\\n",
       "0       e481f51cbdc54678b7cc49136f2d6af7  9ef432eb6251297304e76186b10a928d   \n",
       "1       53cdb2fc8bc7dce0b6741e2150273451  b0830fb4747a6c6d20dea0b8c802d7ef   \n",
       "2       47770eb9100c2d0c44946d9cf07ec65d  41ce2a54c0b03bf3443c3d931a367089   \n",
       "3       949d5b44dbf5de918fe9c16f97b45f8a  f88197465ea7920adcdbec7375364d82   \n",
       "4       ad21c59c0840e6cb83a9ceb5573f8159  8ab97904e6daea8866dbdbc4fb7aad2c   \n",
       "...                                  ...                               ...   \n",
       "112645  63943bddc261676b46f01ca7ac2f7bd8  1fca14ff2861355f6e5f14306ff977a7   \n",
       "112646  83c1379a015df1e13d02aae0204711ab  1aa71eb042121263aafbe80c1b562c9c   \n",
       "112647  11c177c8e97725db2631073c19f07b62  b331b74b18dc79bcdf6532d51e1637c1   \n",
       "112648  11c177c8e97725db2631073c19f07b62  b331b74b18dc79bcdf6532d51e1637c1   \n",
       "112649  66dea50a8b16d9b4dee7af250b4be1a5  edb027a75a1449115f6b43211ae02a24   \n",
       "\n",
       "       order_status order_purchase_timestamp  \\\n",
       "0         delivered      2017-10-02 10:56:33   \n",
       "1         delivered      2018-07-24 20:41:37   \n",
       "2         delivered      2018-08-08 08:38:49   \n",
       "3         delivered      2017-11-18 19:28:06   \n",
       "4         delivered      2018-02-13 21:18:39   \n",
       "...             ...                      ...   \n",
       "112645    delivered      2018-02-06 12:58:58   \n",
       "112646    delivered      2017-08-27 14:46:43   \n",
       "112647    delivered      2018-01-08 21:28:27   \n",
       "112648    delivered      2018-01-08 21:28:27   \n",
       "112649    delivered      2018-03-08 20:57:30   \n",
       "\n",
       "                              product_id   price  freight_value  \\\n",
       "0       87285b34884572647811a353c7ac498a   29.99           8.72   \n",
       "1       595fac2a385ac33a80bd5114aec74eb8  118.70          22.76   \n",
       "2       aa4383b373c6aca5d8797843e5594415  159.90          19.22   \n",
       "3       d0b61bfb1de832b15ba9d266ca96e5b0   45.00          27.20   \n",
       "4       65266b2da20d04dbe00c5c2d3bb7859e   19.90           8.72   \n",
       "...                                  ...     ...            ...   \n",
       "112645  f1d4ce8c6dd66c47bbaa8c6781c2a923  174.90          20.10   \n",
       "112646  b80910977a37536adeddd63663f916ad  205.99          65.02   \n",
       "112647  d1c427060a0f73f6b889a5c7c61f2ac4  179.99          40.59   \n",
       "112648  d1c427060a0f73f6b889a5c7c61f2ac4  179.99          40.59   \n",
       "112649  006619bbed68b000c8ba3f8725d5409e   68.50          18.36   \n",
       "\n",
       "       product_category_name_english  \n",
       "0                         housewares  \n",
       "1                          perfumery  \n",
       "2                               auto  \n",
       "3                           pet_shop  \n",
       "4                         stationery  \n",
       "...                              ...  \n",
       "112645                          baby  \n",
       "112646             home_appliances_2  \n",
       "112647         computers_accessories  \n",
       "112648         computers_accessories  \n",
       "112649                 health_beauty  \n",
       "\n",
       "[112650 rows x 8 columns]"
      ]
     },
     "execution_count": 94,
     "metadata": {},
     "output_type": "execute_result"
    }
   ],
   "source": [
    "# Filtering columns to those that will be used\n",
    "full_df = full_df[['order_id', 'customer_id', 'order_status', 'order_purchase_timestamp', 'product_id', 'price', 'freight_value','product_category_name_english']]\n",
    "full_df"
   ]
  },
  {
   "cell_type": "markdown",
   "metadata": {},
   "source": [
    "### Exploratory data analysis"
   ]
  },
  {
   "cell_type": "code",
   "execution_count": 51,
   "metadata": {},
   "outputs": [
    {
     "name": "stdout",
     "output_type": "stream",
     "text": [
      "Table size (112650, 8)\n",
      "\n",
      "Max number of products bought at once:  21\n",
      "The most popular product: fffe9eeff12fcbd74a2f2b007dde0c58. Times bought: 527. Product category: toys\n"
     ]
    }
   ],
   "source": [
    "# Shape:\n",
    "for df in [full_df]:\n",
    "    print('Table size {}'.format(df.shape))\n",
    "\n",
    "print(\"\\nMax number of products bought at once: \", dt_items[['order_item_id']].max()[0])\n",
    "# print(\"\\nMax number of products bought at once: \",  dt_items['order_item_id'].value_counts().max())\n",
    "print(\"The most popular product: {}. Times bought: {}. Product category: {}\".format(dt_items[['product_id']].max()[0], dt_items['product_id'].value_counts().max(), full_df[full_df.product_id=='fffe9eeff12fcbd74a2f2b007dde0c58']['product_category_name_english'].item()))"
   ]
  },
  {
   "cell_type": "code",
   "execution_count": 7,
   "metadata": {},
   "outputs": [
    {
     "data": {
      "text/html": [
       "<div>\n",
       "<style scoped>\n",
       "    .dataframe tbody tr th:only-of-type {\n",
       "        vertical-align: middle;\n",
       "    }\n",
       "\n",
       "    .dataframe tbody tr th {\n",
       "        vertical-align: top;\n",
       "    }\n",
       "\n",
       "    .dataframe thead th {\n",
       "        text-align: right;\n",
       "    }\n",
       "</style>\n",
       "<table border=\"1\" class=\"dataframe\">\n",
       "  <thead>\n",
       "    <tr style=\"text-align: right;\">\n",
       "      <th></th>\n",
       "      <th>price</th>\n",
       "      <th>freight_value</th>\n",
       "    </tr>\n",
       "  </thead>\n",
       "  <tbody>\n",
       "    <tr>\n",
       "      <th>count</th>\n",
       "      <td>112650.000000</td>\n",
       "      <td>112650.000000</td>\n",
       "    </tr>\n",
       "    <tr>\n",
       "      <th>mean</th>\n",
       "      <td>120.653739</td>\n",
       "      <td>19.990320</td>\n",
       "    </tr>\n",
       "    <tr>\n",
       "      <th>std</th>\n",
       "      <td>183.633928</td>\n",
       "      <td>15.806405</td>\n",
       "    </tr>\n",
       "    <tr>\n",
       "      <th>min</th>\n",
       "      <td>0.850000</td>\n",
       "      <td>0.000000</td>\n",
       "    </tr>\n",
       "    <tr>\n",
       "      <th>25%</th>\n",
       "      <td>39.900000</td>\n",
       "      <td>13.080000</td>\n",
       "    </tr>\n",
       "    <tr>\n",
       "      <th>50%</th>\n",
       "      <td>74.990000</td>\n",
       "      <td>16.260000</td>\n",
       "    </tr>\n",
       "    <tr>\n",
       "      <th>75%</th>\n",
       "      <td>134.900000</td>\n",
       "      <td>21.150000</td>\n",
       "    </tr>\n",
       "    <tr>\n",
       "      <th>max</th>\n",
       "      <td>6735.000000</td>\n",
       "      <td>409.680000</td>\n",
       "    </tr>\n",
       "  </tbody>\n",
       "</table>\n",
       "</div>"
      ],
      "text/plain": [
       "               price  freight_value\n",
       "count  112650.000000  112650.000000\n",
       "mean      120.653739      19.990320\n",
       "std       183.633928      15.806405\n",
       "min         0.850000       0.000000\n",
       "25%        39.900000      13.080000\n",
       "50%        74.990000      16.260000\n",
       "75%       134.900000      21.150000\n",
       "max      6735.000000     409.680000"
      ]
     },
     "execution_count": 7,
     "metadata": {},
     "output_type": "execute_result"
    }
   ],
   "source": [
    "full_df.describe()"
   ]
  },
  {
   "cell_type": "code",
   "execution_count": 8,
   "metadata": {},
   "outputs": [
    {
     "data": {
      "text/plain": [
       "(99441, 8)"
      ]
     },
     "execution_count": 8,
     "metadata": {},
     "output_type": "execute_result"
    }
   ],
   "source": [
    "dt_orders.shape\n",
    "## After merging the dataset grew by ~12k rows (comparing with dt_orders). This is due to purchases with multiple products (for example 2 items at the same time by the same customer).\n",
    "# Because any purchase is relevant, these observations are left and each item is treated as a separate transaction. \n"
   ]
  },
  {
   "cell_type": "markdown",
   "metadata": {},
   "source": [
    "#### Nulls"
   ]
  },
  {
   "cell_type": "code",
   "execution_count": 9,
   "metadata": {},
   "outputs": [
    {
     "data": {
      "text/plain": [
       "order_id                            0\n",
       "customer_id                         0\n",
       "order_status                        0\n",
       "order_purchase_timestamp            0\n",
       "product_id                          0\n",
       "price                               0\n",
       "freight_value                       0\n",
       "product_category_name_english    1627\n",
       "dtype: int64"
      ]
     },
     "execution_count": 9,
     "metadata": {},
     "output_type": "execute_result"
    }
   ],
   "source": [
    "full_df.isnull().sum()"
   ]
  },
  {
   "cell_type": "code",
   "execution_count": 28,
   "metadata": {},
   "outputs": [
    {
     "data": {
      "text/plain": [
       "71"
      ]
     },
     "execution_count": 28,
     "metadata": {},
     "output_type": "execute_result"
    }
   ],
   "source": [
    "full_df.product_category_name_english.nunique()"
   ]
  },
  {
   "cell_type": "markdown",
   "metadata": {},
   "source": [
    "The data has some missing values for product types, which is a categorical variable with 71 different values. The provided information in the dataset does not allow to 'find' them and perform any imputation. As in the first clustering this variable will not be used, right now this column is not a problem and dropping the nulls is not required (would cause losing 1% of data).\n",
    "\n",
    "However, this categorical variable variable is used later on and the missing values are there addressed.  "
   ]
  },
  {
   "cell_type": "markdown",
   "metadata": {},
   "source": [
    "#### Dates"
   ]
  },
  {
   "cell_type": "code",
   "execution_count": 221,
   "metadata": {},
   "outputs": [
    {
     "name": "stdout",
     "output_type": "stream",
     "text": [
      "First transaction in dataset:  2016-09-04\n",
      "Last transaction in dataset:  2018-09-03\n",
      "First month in dataset and number of transactions:  2016-09    6\n",
      "Name: date, dtype: int64\n",
      "Last month in dataset and number of transactions:  2018-09    1\n",
      "Name: date, dtype: int64\n",
      "The month with the most transactions:  2017-11    8665\n",
      "Name: date, dtype: int64\n"
     ]
    }
   ],
   "source": [
    "full_df['date'] = full_df.order_purchase_timestamp.str[:10]\n",
    "print('First transaction in dataset: ', full_df.date.min())\n",
    "print('Last transaction in dataset: ', full_df.date.max())\n",
    "\n",
    "# Switching to monthly details \n",
    "full_df['date'] = full_df.order_purchase_timestamp.str[:7]\n",
    "print('First month in dataset and number of transactions: ', full_df[full_df.date==full_df.date.min()]['date'].value_counts())\n",
    "print('Last month in dataset and number of transactions: ', full_df[full_df.date==full_df.date.max()]['date'].value_counts())\n",
    "print('The month with the most transactions: ', full_df['date'].value_counts()[:1:])"
   ]
  },
  {
   "cell_type": "code",
   "execution_count": 163,
   "metadata": {},
   "outputs": [
    {
     "data": {
      "text/plain": [
       "Text(0, 0.5, 'Count of transactions')"
      ]
     },
     "execution_count": 163,
     "metadata": {},
     "output_type": "execute_result"
    },
    {
     "data": {
      "image/png": "[encoded data removed]",
      "text/plain": [
       "<Figure size 2304x864 with 1 Axes>"
      ]
     },
     "metadata": {},
     "output_type": "display_data"
    }
   ],
   "source": [
    "plt.rcParams[\"figure.figsize\"] = (32,12)\n",
    "sns.set(font_scale = 1.2)\n",
    "sns.lineplot(full_df['date'].value_counts()[1:].index, full_df['date'].value_counts()[1:])#.set(xlabel = 'Date', ylabel= 'Count of transactions')\n",
    "plt.xlabel('Date', fontsize=25)\n",
    "plt.ylabel('Count of transactions', fontsize=25)\n",
    "# ticks_all = full_df['date'].value_counts()[1:].index\n",
    "# ticks_sel = list(ticks_all[::2])\n",
    "# plt.xticks(ticks_sel)"
   ]
  },
  {
   "cell_type": "markdown",
   "metadata": {},
   "source": [
    "The number of transactions at the beginning of the dataset is minor, with just a few transactions per month. It is quickly increasing, with 2000 transactions in the 5th month. The peak is in November 2017 and it starts the best period for the website, with 7-8k transactions monthly.\n",
    "\n",
    "The data looks like the business has opened in 2016-09, which would explain the small number of purchases. However, this would need to be confirmed by the data provider. \n",
    "\n",
    "The last transaction in the dataset happens at the beginning of 2018-09, which means 2 years data was provided."
   ]
  },
  {
   "cell_type": "markdown",
   "metadata": {},
   "source": [
    "#### Customers"
   ]
  },
  {
   "cell_type": "code",
   "execution_count": 238,
   "metadata": {},
   "outputs": [
    {
     "name": "stdout",
     "output_type": "stream",
     "text": [
      "Maximum number of orders done by unique customer:  1\n"
     ]
    }
   ],
   "source": [
    "print('Maximum number of orders done by unique customer: ', dt_orders['customer_id'].value_counts().max())"
   ]
  },
  {
   "cell_type": "markdown",
   "metadata": {},
   "source": [
    "According to the data, no customer made more than one purchase ever. Because 2-years transactional data is available, the complete lack of returning or loyal customers is unlikely. This suggest that the customers anonymizing was on order level, not customer one.\n",
    "\n",
    "This unfortunately greatly reduces the possible analyses that could be done with this data.   "
   ]
  },
  {
   "cell_type": "markdown",
   "metadata": {},
   "source": [
    "#### Outliers"
   ]
  },
  {
   "cell_type": "code",
   "execution_count": 4,
   "metadata": {},
   "outputs": [
    {
     "name": "stderr",
     "output_type": "stream",
     "text": [
      "<ipython-input-4-607cc362a5f1>:8: UserWarning: Matplotlib is currently using module://ipykernel.pylab.backend_inline, which is a non-GUI backend, so cannot show the figure.\n",
      "  fig.show()\n"
     ]
    },
    {
     "data": {
      "image/png": "[encoded data removed]",
      "text/plain": [
       "<Figure size 1152x864 with 2 Axes>"
      ]
     },
     "metadata": {
      "needs_background": "light"
     },
     "output_type": "display_data"
    }
   ],
   "source": [
    "plt.rcParams[\"figure.figsize\"] = (16,12)\n",
    "fig, ax = plt.subplots(1,2)\n",
    "sns.set(style=\"whitegrid\", font_scale=2)\n",
    "sns.boxplot(data=full_df['price'], ax=ax[0]).set(xlabel='Price')\n",
    "sns.boxplot(data=full_df['freight_value'], ax=ax[1]).set(xlabel='Freight cost')\n",
    "fig.suptitle('Boxplots')\n",
    "fig.show()"
   ]
  },
  {
   "cell_type": "code",
   "execution_count": 73,
   "metadata": {},
   "outputs": [
    {
     "data": {
      "text/html": [
       "<div>\n",
       "<style scoped>\n",
       "    .dataframe tbody tr th:only-of-type {\n",
       "        vertical-align: middle;\n",
       "    }\n",
       "\n",
       "    .dataframe tbody tr th {\n",
       "        vertical-align: top;\n",
       "    }\n",
       "\n",
       "    .dataframe thead th {\n",
       "        text-align: right;\n",
       "    }\n",
       "</style>\n",
       "<table border=\"1\" class=\"dataframe\">\n",
       "  <thead>\n",
       "    <tr style=\"text-align: right;\">\n",
       "      <th></th>\n",
       "      <th>order_id</th>\n",
       "      <th>customer_id</th>\n",
       "      <th>order_status</th>\n",
       "      <th>order_purchase_timestamp</th>\n",
       "      <th>product_id</th>\n",
       "      <th>price</th>\n",
       "      <th>freight_value</th>\n",
       "      <th>product_category_name_english</th>\n",
       "    </tr>\n",
       "  </thead>\n",
       "  <tbody>\n",
       "    <tr>\n",
       "      <th>3925</th>\n",
       "      <td>f5136e38d1a14a4dbd87dff67da82701</td>\n",
       "      <td>3fd6777bbce08a352fddd04e4a7cc8f6</td>\n",
       "      <td>delivered</td>\n",
       "      <td>2017-05-24 18:14:34</td>\n",
       "      <td>1bdf5e6731585cf01aa8169c7028d6ad</td>\n",
       "      <td>6499.0</td>\n",
       "      <td>227.66</td>\n",
       "      <td>art</td>\n",
       "    </tr>\n",
       "    <tr>\n",
       "      <th>25071</th>\n",
       "      <td>0812eb902a67711a1cb742b3cdaa65ae</td>\n",
       "      <td>c6e2731c5b391845f6800c97401a43a9</td>\n",
       "      <td>delivered</td>\n",
       "      <td>2017-02-12 20:37:36</td>\n",
       "      <td>489ae2aa008f021502940f251d4cce7f</td>\n",
       "      <td>6735.0</td>\n",
       "      <td>194.31</td>\n",
       "      <td>housewares</td>\n",
       "    </tr>\n",
       "    <tr>\n",
       "      <th>32077</th>\n",
       "      <td>fefacc66af859508bf1a7934eab1e97f</td>\n",
       "      <td>f48d464a0baaea338cb25f816991ab1f</td>\n",
       "      <td>delivered</td>\n",
       "      <td>2018-07-25 18:10:17</td>\n",
       "      <td>69c590f7ffc7bf8db97190b6cb6ed62e</td>\n",
       "      <td>6729.0</td>\n",
       "      <td>193.21</td>\n",
       "      <td>computers</td>\n",
       "    </tr>\n",
       "  </tbody>\n",
       "</table>\n",
       "</div>"
      ],
      "text/plain": [
       "                               order_id                       customer_id  \\\n",
       "3925   f5136e38d1a14a4dbd87dff67da82701  3fd6777bbce08a352fddd04e4a7cc8f6   \n",
       "25071  0812eb902a67711a1cb742b3cdaa65ae  c6e2731c5b391845f6800c97401a43a9   \n",
       "32077  fefacc66af859508bf1a7934eab1e97f  f48d464a0baaea338cb25f816991ab1f   \n",
       "\n",
       "      order_status order_purchase_timestamp                        product_id  \\\n",
       "3925     delivered      2017-05-24 18:14:34  1bdf5e6731585cf01aa8169c7028d6ad   \n",
       "25071    delivered      2017-02-12 20:37:36  489ae2aa008f021502940f251d4cce7f   \n",
       "32077    delivered      2018-07-25 18:10:17  69c590f7ffc7bf8db97190b6cb6ed62e   \n",
       "\n",
       "        price  freight_value product_category_name_english  \n",
       "3925   6499.0         227.66                           art  \n",
       "25071  6735.0         194.31                    housewares  \n",
       "32077  6729.0         193.21                     computers  "
      ]
     },
     "execution_count": 73,
     "metadata": {},
     "output_type": "execute_result"
    }
   ],
   "source": [
    "full_df[full_df.price>5000]"
   ]
  },
  {
   "cell_type": "code",
   "execution_count": 74,
   "metadata": {},
   "outputs": [
    {
     "data": {
      "text/html": [
       "<div>\n",
       "<style scoped>\n",
       "    .dataframe tbody tr th:only-of-type {\n",
       "        vertical-align: middle;\n",
       "    }\n",
       "\n",
       "    .dataframe tbody tr th {\n",
       "        vertical-align: top;\n",
       "    }\n",
       "\n",
       "    .dataframe thead th {\n",
       "        text-align: right;\n",
       "    }\n",
       "</style>\n",
       "<table border=\"1\" class=\"dataframe\">\n",
       "  <thead>\n",
       "    <tr style=\"text-align: right;\">\n",
       "      <th></th>\n",
       "      <th>order_id</th>\n",
       "      <th>customer_id</th>\n",
       "      <th>order_status</th>\n",
       "      <th>order_purchase_timestamp</th>\n",
       "      <th>product_id</th>\n",
       "      <th>price</th>\n",
       "      <th>freight_value</th>\n",
       "      <th>product_category_name_english</th>\n",
       "    </tr>\n",
       "  </thead>\n",
       "  <tbody>\n",
       "    <tr>\n",
       "      <th>57086</th>\n",
       "      <td>a77e1550db865202c56b19ddc6dc4d53</td>\n",
       "      <td>4eed76c1aafeceac4250e202ca9b1a5a</td>\n",
       "      <td>delivered</td>\n",
       "      <td>2018-04-16 14:57:21</td>\n",
       "      <td>ec31d2a17b299511e7c8627be9337b9b</td>\n",
       "      <td>979.00</td>\n",
       "      <td>409.68</td>\n",
       "      <td>baby</td>\n",
       "    </tr>\n",
       "    <tr>\n",
       "      <th>84927</th>\n",
       "      <td>076d1555fb53a89b0ef4d529e527a0f6</td>\n",
       "      <td>f08306b95370e8d5f0d97b71229284b6</td>\n",
       "      <td>delivered</td>\n",
       "      <td>2018-07-30 10:04:21</td>\n",
       "      <td>a3cd9517ebf5a50dca25acce54f3b171</td>\n",
       "      <td>2338.08</td>\n",
       "      <td>375.28</td>\n",
       "      <td>housewares</td>\n",
       "    </tr>\n",
       "    <tr>\n",
       "      <th>111396</th>\n",
       "      <td>3fde74c28a3d5d618c00f26d51baafa0</td>\n",
       "      <td>f2c743697f9b2ff2902df23a16582d80</td>\n",
       "      <td>delivered</td>\n",
       "      <td>2018-08-13 14:07:50</td>\n",
       "      <td>a3cd9517ebf5a50dca25acce54f3b171</td>\n",
       "      <td>2338.08</td>\n",
       "      <td>375.28</td>\n",
       "      <td>housewares</td>\n",
       "    </tr>\n",
       "  </tbody>\n",
       "</table>\n",
       "</div>"
      ],
      "text/plain": [
       "                                order_id                       customer_id  \\\n",
       "57086   a77e1550db865202c56b19ddc6dc4d53  4eed76c1aafeceac4250e202ca9b1a5a   \n",
       "84927   076d1555fb53a89b0ef4d529e527a0f6  f08306b95370e8d5f0d97b71229284b6   \n",
       "111396  3fde74c28a3d5d618c00f26d51baafa0  f2c743697f9b2ff2902df23a16582d80   \n",
       "\n",
       "       order_status order_purchase_timestamp  \\\n",
       "57086     delivered      2018-04-16 14:57:21   \n",
       "84927     delivered      2018-07-30 10:04:21   \n",
       "111396    delivered      2018-08-13 14:07:50   \n",
       "\n",
       "                              product_id    price  freight_value  \\\n",
       "57086   ec31d2a17b299511e7c8627be9337b9b   979.00         409.68   \n",
       "84927   a3cd9517ebf5a50dca25acce54f3b171  2338.08         375.28   \n",
       "111396  a3cd9517ebf5a50dca25acce54f3b171  2338.08         375.28   \n",
       "\n",
       "       product_category_name_english  \n",
       "57086                           baby  \n",
       "84927                     housewares  \n",
       "111396                    housewares  "
      ]
     },
     "execution_count": 74,
     "metadata": {},
     "output_type": "execute_result"
    }
   ],
   "source": [
    "full_df[full_df.freight_value>350]"
   ]
  },
  {
   "cell_type": "code",
   "execution_count": 11,
   "metadata": {},
   "outputs": [],
   "source": [
    "iqr = full_df.quantile(0.75) - full_df.quantile(0.25)\n",
    "full_df_iqr = full_df[~((full_df < (full_df.quantile(0.25) - 1.5 * iqr)) |(full_df > (full_df.quantile(0.75) + 1.5 * iqr))).any(axis=1)]"
   ]
  },
  {
   "cell_type": "code",
   "execution_count": 12,
   "metadata": {},
   "outputs": [
    {
     "name": "stderr",
     "output_type": "stream",
     "text": [
      "<ipython-input-12-5a1fa1222804>:8: UserWarning: Matplotlib is currently using module://ipykernel.pylab.backend_inline, which is a non-GUI backend, so cannot show the figure.\n",
      "  fig.show()\n"
     ]
    },
    {
     "data": {
      "image/png": "[encoded data removed]",
      "text/plain": [
       "<Figure size 1152x864 with 2 Axes>"
      ]
     },
     "metadata": {
      "needs_background": "light"
     },
     "output_type": "display_data"
    }
   ],
   "source": [
    "plt.rcParams[\"figure.figsize\"] = (16,12)\n",
    "fig, ax = plt.subplots(1,2)\n",
    "sns.set(style=\"whitegrid\", font_scale=2)\n",
    "sns.boxplot(data=full_df_iqr['price'], ax=ax[0]).set(xlabel='Price')\n",
    "sns.boxplot(data=full_df_iqr['freight_value'], ax=ax[1]).set(xlabel='Freight cost')\n",
    "fig.suptitle('Boxplots - 1.5*IQR rule')\n",
    "fig.show()"
   ]
  },
  {
   "cell_type": "markdown",
   "metadata": {},
   "source": [
    "There are multiple observations that fall outside of the interquartile ranges for the Price and Freight value. However, there are no reasons to believe these are faulty records. In fact, there are only a few values cleary outstanding from the rest of the population. As their effect on clustering is unknown, both datasets with (full_df) and without (full_df_iqr) outliers will be tested.  "
   ]
  },
  {
   "cell_type": "markdown",
   "metadata": {},
   "source": [
    "#### Distribution"
   ]
  },
  {
   "cell_type": "code",
   "execution_count": 64,
   "metadata": {},
   "outputs": [
    {
     "data": {
      "text/plain": [
       "<matplotlib.axes._subplots.AxesSubplot at 0x7fc76acd4400>"
      ]
     },
     "execution_count": 64,
     "metadata": {},
     "output_type": "execute_result"
    },
    {
     "data": {
      "image/png": "[encoded data removed]",
      "text/plain": [
       "<Figure size 864x432 with 1 Axes>"
      ]
     },
     "metadata": {},
     "output_type": "display_data"
    }
   ],
   "source": [
    "# import scipy.stats as stats\n",
    "# sns.set(font_scale=1.5, palette='muted')\n",
    "# fig, (ax1, ax2) = plt.subplots(1, 2, figsize=[20, 5])\n",
    "# sns.distplot(full_df_iqr['price'], bins=30, ax=ax1)\n",
    "# # ax2 = plt.hist(full_df_iqr['freight_value'], bins=20)\n",
    "# sns.distplot(full_df_iqr['freight_value'], bins=10, ax=ax2)\n",
    "\n",
    "# for var, axx in zip ([full_df_iqr.price, full_df_iqr.freight_value], [ax1, ax2]):\n",
    "    \n",
    "#     mu = np.mean(var)\n",
    "#     sigma = np.std(var)\n",
    "#     pdf = stats.norm.pdf(sorted(var), mu, sigma)\n",
    "#     if axx == ax1:sns.distplot(full_df_iqr['price'], bins=20, ax=axx)\n",
    "#     else: axx = plt.plot(sorted(var), pdf, color='r', linewidth=2) #plt.hist(var, bins=30, density = True)\n",
    "    \n",
    "#     # plt.plot(sorted(var), pdf, color='r', linewidth=2)\n",
    "sns.set(palette='muted', color_codes=True, style='white')\n",
    "fig, ax = plt.subplots(figsize=(12, 6))\n",
    "sns.despine(left=True)\n",
    "sns.distplot(full_df_iqr.price, bins=15)"
   ]
  },
  {
   "cell_type": "markdown",
   "metadata": {},
   "source": [
    "Cena: rozkład prawoskośny, dostawa: upośledzony pseudonormalny"
   ]
  },
  {
   "cell_type": "code",
   "execution_count": 71,
   "metadata": {},
   "outputs": [
    {
     "data": {
      "text/html": [
       "<div>\n",
       "<style scoped>\n",
       "    .dataframe tbody tr th:only-of-type {\n",
       "        vertical-align: middle;\n",
       "    }\n",
       "\n",
       "    .dataframe tbody tr th {\n",
       "        vertical-align: top;\n",
       "    }\n",
       "\n",
       "    .dataframe thead th {\n",
       "        text-align: right;\n",
       "    }\n",
       "</style>\n",
       "<table border=\"1\" class=\"dataframe\">\n",
       "  <thead>\n",
       "    <tr style=\"text-align: right;\">\n",
       "      <th></th>\n",
       "      <th>price</th>\n",
       "      <th>freight_value</th>\n",
       "    </tr>\n",
       "  </thead>\n",
       "  <tbody>\n",
       "    <tr>\n",
       "      <th>price</th>\n",
       "      <td>1.000000</td>\n",
       "      <td>0.306805</td>\n",
       "    </tr>\n",
       "    <tr>\n",
       "      <th>freight_value</th>\n",
       "      <td>0.306805</td>\n",
       "      <td>1.000000</td>\n",
       "    </tr>\n",
       "  </tbody>\n",
       "</table>\n",
       "</div>"
      ],
      "text/plain": [
       "                  price  freight_value\n",
       "price          1.000000       0.306805\n",
       "freight_value  0.306805       1.000000"
      ]
     },
     "execution_count": 71,
     "metadata": {},
     "output_type": "execute_result"
    }
   ],
   "source": [
    "full_df_iqr.corr()"
   ]
  },
  {
   "cell_type": "markdown",
   "metadata": {},
   "source": [
    "### Feature engineering"
   ]
  },
  {
   "cell_type": "markdown",
   "metadata": {},
   "source": [
    "any further analysis?\n",
    "create freature with frequency"
   ]
  },
  {
   "cell_type": "code",
   "execution_count": 95,
   "metadata": {},
   "outputs": [
    {
     "data": {
      "text/plain": [
       "order_id                          object\n",
       "customer_id                       object\n",
       "order_status                      object\n",
       "order_purchase_timestamp          object\n",
       "product_id                        object\n",
       "price                            float64\n",
       "freight_value                    float64\n",
       "product_category_name_english     object\n",
       "dtype: object"
      ]
     },
     "execution_count": 95,
     "metadata": {},
     "output_type": "execute_result"
    }
   ],
   "source": [
    "full_df.dtypes"
   ]
  },
  {
   "cell_type": "code",
   "execution_count": 99,
   "metadata": {},
   "outputs": [
    {
     "data": {
      "text/html": [
       "<div>\n",
       "<style scoped>\n",
       "    .dataframe tbody tr th:only-of-type {\n",
       "        vertical-align: middle;\n",
       "    }\n",
       "\n",
       "    .dataframe tbody tr th {\n",
       "        vertical-align: top;\n",
       "    }\n",
       "\n",
       "    .dataframe thead th {\n",
       "        text-align: right;\n",
       "    }\n",
       "</style>\n",
       "<table border=\"1\" class=\"dataframe\">\n",
       "  <thead>\n",
       "    <tr style=\"text-align: right;\">\n",
       "      <th></th>\n",
       "      <th>order_id</th>\n",
       "      <th>customer_id</th>\n",
       "      <th>order_status</th>\n",
       "      <th>order_purchase_timestamp</th>\n",
       "      <th>product_id</th>\n",
       "      <th>price</th>\n",
       "      <th>freight_value</th>\n",
       "      <th>product_category_name_english</th>\n",
       "      <th>year</th>\n",
       "      <th>month</th>\n",
       "      <th>date</th>\n",
       "    </tr>\n",
       "  </thead>\n",
       "  <tbody>\n",
       "    <tr>\n",
       "      <th>0</th>\n",
       "      <td>e481f51cbdc54678b7cc49136f2d6af7</td>\n",
       "      <td>9ef432eb6251297304e76186b10a928d</td>\n",
       "      <td>delivered</td>\n",
       "      <td>2017-10-02 10:56:33</td>\n",
       "      <td>87285b34884572647811a353c7ac498a</td>\n",
       "      <td>29.99</td>\n",
       "      <td>8.72</td>\n",
       "      <td>housewares</td>\n",
       "      <td>2017</td>\n",
       "      <td>10</td>\n",
       "      <td>2017-10-02</td>\n",
       "    </tr>\n",
       "    <tr>\n",
       "      <th>1</th>\n",
       "      <td>53cdb2fc8bc7dce0b6741e2150273451</td>\n",
       "      <td>b0830fb4747a6c6d20dea0b8c802d7ef</td>\n",
       "      <td>delivered</td>\n",
       "      <td>2018-07-24 20:41:37</td>\n",
       "      <td>595fac2a385ac33a80bd5114aec74eb8</td>\n",
       "      <td>118.70</td>\n",
       "      <td>22.76</td>\n",
       "      <td>perfumery</td>\n",
       "      <td>2018</td>\n",
       "      <td>07</td>\n",
       "      <td>2018-07-24</td>\n",
       "    </tr>\n",
       "    <tr>\n",
       "      <th>2</th>\n",
       "      <td>47770eb9100c2d0c44946d9cf07ec65d</td>\n",
       "      <td>41ce2a54c0b03bf3443c3d931a367089</td>\n",
       "      <td>delivered</td>\n",
       "      <td>2018-08-08 08:38:49</td>\n",
       "      <td>aa4383b373c6aca5d8797843e5594415</td>\n",
       "      <td>159.90</td>\n",
       "      <td>19.22</td>\n",
       "      <td>auto</td>\n",
       "      <td>2018</td>\n",
       "      <td>08</td>\n",
       "      <td>2018-08-08</td>\n",
       "    </tr>\n",
       "    <tr>\n",
       "      <th>3</th>\n",
       "      <td>949d5b44dbf5de918fe9c16f97b45f8a</td>\n",
       "      <td>f88197465ea7920adcdbec7375364d82</td>\n",
       "      <td>delivered</td>\n",
       "      <td>2017-11-18 19:28:06</td>\n",
       "      <td>d0b61bfb1de832b15ba9d266ca96e5b0</td>\n",
       "      <td>45.00</td>\n",
       "      <td>27.20</td>\n",
       "      <td>pet_shop</td>\n",
       "      <td>2017</td>\n",
       "      <td>11</td>\n",
       "      <td>2017-11-18</td>\n",
       "    </tr>\n",
       "    <tr>\n",
       "      <th>4</th>\n",
       "      <td>ad21c59c0840e6cb83a9ceb5573f8159</td>\n",
       "      <td>8ab97904e6daea8866dbdbc4fb7aad2c</td>\n",
       "      <td>delivered</td>\n",
       "      <td>2018-02-13 21:18:39</td>\n",
       "      <td>65266b2da20d04dbe00c5c2d3bb7859e</td>\n",
       "      <td>19.90</td>\n",
       "      <td>8.72</td>\n",
       "      <td>stationery</td>\n",
       "      <td>2018</td>\n",
       "      <td>02</td>\n",
       "      <td>2018-02-13</td>\n",
       "    </tr>\n",
       "    <tr>\n",
       "      <th>...</th>\n",
       "      <td>...</td>\n",
       "      <td>...</td>\n",
       "      <td>...</td>\n",
       "      <td>...</td>\n",
       "      <td>...</td>\n",
       "      <td>...</td>\n",
       "      <td>...</td>\n",
       "      <td>...</td>\n",
       "      <td>...</td>\n",
       "      <td>...</td>\n",
       "      <td>...</td>\n",
       "    </tr>\n",
       "    <tr>\n",
       "      <th>112645</th>\n",
       "      <td>63943bddc261676b46f01ca7ac2f7bd8</td>\n",
       "      <td>1fca14ff2861355f6e5f14306ff977a7</td>\n",
       "      <td>delivered</td>\n",
       "      <td>2018-02-06 12:58:58</td>\n",
       "      <td>f1d4ce8c6dd66c47bbaa8c6781c2a923</td>\n",
       "      <td>174.90</td>\n",
       "      <td>20.10</td>\n",
       "      <td>baby</td>\n",
       "      <td>2018</td>\n",
       "      <td>02</td>\n",
       "      <td>2018-02-06</td>\n",
       "    </tr>\n",
       "    <tr>\n",
       "      <th>112646</th>\n",
       "      <td>83c1379a015df1e13d02aae0204711ab</td>\n",
       "      <td>1aa71eb042121263aafbe80c1b562c9c</td>\n",
       "      <td>delivered</td>\n",
       "      <td>2017-08-27 14:46:43</td>\n",
       "      <td>b80910977a37536adeddd63663f916ad</td>\n",
       "      <td>205.99</td>\n",
       "      <td>65.02</td>\n",
       "      <td>home_appliances_2</td>\n",
       "      <td>2017</td>\n",
       "      <td>08</td>\n",
       "      <td>2017-08-27</td>\n",
       "    </tr>\n",
       "    <tr>\n",
       "      <th>112647</th>\n",
       "      <td>11c177c8e97725db2631073c19f07b62</td>\n",
       "      <td>b331b74b18dc79bcdf6532d51e1637c1</td>\n",
       "      <td>delivered</td>\n",
       "      <td>2018-01-08 21:28:27</td>\n",
       "      <td>d1c427060a0f73f6b889a5c7c61f2ac4</td>\n",
       "      <td>179.99</td>\n",
       "      <td>40.59</td>\n",
       "      <td>computers_accessories</td>\n",
       "      <td>2018</td>\n",
       "      <td>01</td>\n",
       "      <td>2018-01-08</td>\n",
       "    </tr>\n",
       "    <tr>\n",
       "      <th>112648</th>\n",
       "      <td>11c177c8e97725db2631073c19f07b62</td>\n",
       "      <td>b331b74b18dc79bcdf6532d51e1637c1</td>\n",
       "      <td>delivered</td>\n",
       "      <td>2018-01-08 21:28:27</td>\n",
       "      <td>d1c427060a0f73f6b889a5c7c61f2ac4</td>\n",
       "      <td>179.99</td>\n",
       "      <td>40.59</td>\n",
       "      <td>computers_accessories</td>\n",
       "      <td>2018</td>\n",
       "      <td>01</td>\n",
       "      <td>2018-01-08</td>\n",
       "    </tr>\n",
       "    <tr>\n",
       "      <th>112649</th>\n",
       "      <td>66dea50a8b16d9b4dee7af250b4be1a5</td>\n",
       "      <td>edb027a75a1449115f6b43211ae02a24</td>\n",
       "      <td>delivered</td>\n",
       "      <td>2018-03-08 20:57:30</td>\n",
       "      <td>006619bbed68b000c8ba3f8725d5409e</td>\n",
       "      <td>68.50</td>\n",
       "      <td>18.36</td>\n",
       "      <td>health_beauty</td>\n",
       "      <td>2018</td>\n",
       "      <td>03</td>\n",
       "      <td>2018-03-08</td>\n",
       "    </tr>\n",
       "  </tbody>\n",
       "</table>\n",
       "<p>112650 rows × 11 columns</p>\n",
       "</div>"
      ],
      "text/plain": [
       "                                order_id                       customer_id  \\\n",
       "0       e481f51cbdc54678b7cc49136f2d6af7  9ef432eb6251297304e76186b10a928d   \n",
       "1       53cdb2fc8bc7dce0b6741e2150273451  b0830fb4747a6c6d20dea0b8c802d7ef   \n",
       "2       47770eb9100c2d0c44946d9cf07ec65d  41ce2a54c0b03bf3443c3d931a367089   \n",
       "3       949d5b44dbf5de918fe9c16f97b45f8a  f88197465ea7920adcdbec7375364d82   \n",
       "4       ad21c59c0840e6cb83a9ceb5573f8159  8ab97904e6daea8866dbdbc4fb7aad2c   \n",
       "...                                  ...                               ...   \n",
       "112645  63943bddc261676b46f01ca7ac2f7bd8  1fca14ff2861355f6e5f14306ff977a7   \n",
       "112646  83c1379a015df1e13d02aae0204711ab  1aa71eb042121263aafbe80c1b562c9c   \n",
       "112647  11c177c8e97725db2631073c19f07b62  b331b74b18dc79bcdf6532d51e1637c1   \n",
       "112648  11c177c8e97725db2631073c19f07b62  b331b74b18dc79bcdf6532d51e1637c1   \n",
       "112649  66dea50a8b16d9b4dee7af250b4be1a5  edb027a75a1449115f6b43211ae02a24   \n",
       "\n",
       "       order_status order_purchase_timestamp  \\\n",
       "0         delivered      2017-10-02 10:56:33   \n",
       "1         delivered      2018-07-24 20:41:37   \n",
       "2         delivered      2018-08-08 08:38:49   \n",
       "3         delivered      2017-11-18 19:28:06   \n",
       "4         delivered      2018-02-13 21:18:39   \n",
       "...             ...                      ...   \n",
       "112645    delivered      2018-02-06 12:58:58   \n",
       "112646    delivered      2017-08-27 14:46:43   \n",
       "112647    delivered      2018-01-08 21:28:27   \n",
       "112648    delivered      2018-01-08 21:28:27   \n",
       "112649    delivered      2018-03-08 20:57:30   \n",
       "\n",
       "                              product_id   price  freight_value  \\\n",
       "0       87285b34884572647811a353c7ac498a   29.99           8.72   \n",
       "1       595fac2a385ac33a80bd5114aec74eb8  118.70          22.76   \n",
       "2       aa4383b373c6aca5d8797843e5594415  159.90          19.22   \n",
       "3       d0b61bfb1de832b15ba9d266ca96e5b0   45.00          27.20   \n",
       "4       65266b2da20d04dbe00c5c2d3bb7859e   19.90           8.72   \n",
       "...                                  ...     ...            ...   \n",
       "112645  f1d4ce8c6dd66c47bbaa8c6781c2a923  174.90          20.10   \n",
       "112646  b80910977a37536adeddd63663f916ad  205.99          65.02   \n",
       "112647  d1c427060a0f73f6b889a5c7c61f2ac4  179.99          40.59   \n",
       "112648  d1c427060a0f73f6b889a5c7c61f2ac4  179.99          40.59   \n",
       "112649  006619bbed68b000c8ba3f8725d5409e   68.50          18.36   \n",
       "\n",
       "       product_category_name_english  year month        date  \n",
       "0                         housewares  2017    10  2017-10-02  \n",
       "1                          perfumery  2018    07  2018-07-24  \n",
       "2                               auto  2018    08  2018-08-08  \n",
       "3                           pet_shop  2017    11  2017-11-18  \n",
       "4                         stationery  2018    02  2018-02-13  \n",
       "...                              ...   ...   ...         ...  \n",
       "112645                          baby  2018    02  2018-02-06  \n",
       "112646             home_appliances_2  2017    08  2017-08-27  \n",
       "112647         computers_accessories  2018    01  2018-01-08  \n",
       "112648         computers_accessories  2018    01  2018-01-08  \n",
       "112649                 health_beauty  2018    03  2018-03-08  \n",
       "\n",
       "[112650 rows x 11 columns]"
      ]
     },
     "execution_count": 99,
     "metadata": {},
     "output_type": "execute_result"
    }
   ],
   "source": [
    "df = full_df.copy()\n",
    "df['year'] = df['order_purchase_timestamp'].str[:4]\n",
    "df['month'] = df['order_purchase_timestamp'].str[5:7]\n",
    "df['order_purchase_timestamp'] = pd.to_datetime(df['order_purchase_timestamp'])\n",
    "df['date'] = df['order_purchase_timestamp'].dt.date\n",
    "\n",
    "df"
   ]
  },
  {
   "cell_type": "code",
   "execution_count": 70,
   "metadata": {},
   "outputs": [
    {
     "data": {
      "text/html": [
       "<div>\n",
       "<style scoped>\n",
       "    .dataframe tbody tr th:only-of-type {\n",
       "        vertical-align: middle;\n",
       "    }\n",
       "\n",
       "    .dataframe tbody tr th {\n",
       "        vertical-align: top;\n",
       "    }\n",
       "\n",
       "    .dataframe thead th {\n",
       "        text-align: right;\n",
       "    }\n",
       "</style>\n",
       "<table border=\"1\" class=\"dataframe\">\n",
       "  <thead>\n",
       "    <tr style=\"text-align: right;\">\n",
       "      <th></th>\n",
       "      <th>order_id</th>\n",
       "      <th>customer_id</th>\n",
       "      <th>order_status</th>\n",
       "      <th>order_purchase_timestamp</th>\n",
       "      <th>product_id</th>\n",
       "      <th>price</th>\n",
       "      <th>freight_value</th>\n",
       "      <th>product_category_name_english</th>\n",
       "    </tr>\n",
       "  </thead>\n",
       "  <tbody>\n",
       "    <tr>\n",
       "      <th>0</th>\n",
       "      <td>e481f51cbdc54678b7cc49136f2d6af7</td>\n",
       "      <td>9ef432eb6251297304e76186b10a928d</td>\n",
       "      <td>delivered</td>\n",
       "      <td>2017-10-02 10:56:33</td>\n",
       "      <td>87285b34884572647811a353c7ac498a</td>\n",
       "      <td>29.99</td>\n",
       "      <td>8.72</td>\n",
       "      <td>housewares</td>\n",
       "    </tr>\n",
       "    <tr>\n",
       "      <th>1</th>\n",
       "      <td>53cdb2fc8bc7dce0b6741e2150273451</td>\n",
       "      <td>b0830fb4747a6c6d20dea0b8c802d7ef</td>\n",
       "      <td>delivered</td>\n",
       "      <td>2018-07-24 20:41:37</td>\n",
       "      <td>595fac2a385ac33a80bd5114aec74eb8</td>\n",
       "      <td>118.70</td>\n",
       "      <td>22.76</td>\n",
       "      <td>perfumery</td>\n",
       "    </tr>\n",
       "    <tr>\n",
       "      <th>2</th>\n",
       "      <td>47770eb9100c2d0c44946d9cf07ec65d</td>\n",
       "      <td>41ce2a54c0b03bf3443c3d931a367089</td>\n",
       "      <td>delivered</td>\n",
       "      <td>2018-08-08 08:38:49</td>\n",
       "      <td>aa4383b373c6aca5d8797843e5594415</td>\n",
       "      <td>159.90</td>\n",
       "      <td>19.22</td>\n",
       "      <td>auto</td>\n",
       "    </tr>\n",
       "    <tr>\n",
       "      <th>3</th>\n",
       "      <td>949d5b44dbf5de918fe9c16f97b45f8a</td>\n",
       "      <td>f88197465ea7920adcdbec7375364d82</td>\n",
       "      <td>delivered</td>\n",
       "      <td>2017-11-18 19:28:06</td>\n",
       "      <td>d0b61bfb1de832b15ba9d266ca96e5b0</td>\n",
       "      <td>45.00</td>\n",
       "      <td>27.20</td>\n",
       "      <td>pet_shop</td>\n",
       "    </tr>\n",
       "    <tr>\n",
       "      <th>4</th>\n",
       "      <td>ad21c59c0840e6cb83a9ceb5573f8159</td>\n",
       "      <td>8ab97904e6daea8866dbdbc4fb7aad2c</td>\n",
       "      <td>delivered</td>\n",
       "      <td>2018-02-13 21:18:39</td>\n",
       "      <td>65266b2da20d04dbe00c5c2d3bb7859e</td>\n",
       "      <td>19.90</td>\n",
       "      <td>8.72</td>\n",
       "      <td>stationery</td>\n",
       "    </tr>\n",
       "    <tr>\n",
       "      <th>...</th>\n",
       "      <td>...</td>\n",
       "      <td>...</td>\n",
       "      <td>...</td>\n",
       "      <td>...</td>\n",
       "      <td>...</td>\n",
       "      <td>...</td>\n",
       "      <td>...</td>\n",
       "      <td>...</td>\n",
       "    </tr>\n",
       "    <tr>\n",
       "      <th>112639</th>\n",
       "      <td>cfa78b997e329a5295b4ee6972c02979</td>\n",
       "      <td>a2f7428f0cafbc8e59f20e1444b67315</td>\n",
       "      <td>delivered</td>\n",
       "      <td>2017-12-20 09:52:41</td>\n",
       "      <td>3d2c44374ee42b3003a470f3e937a2ea</td>\n",
       "      <td>55.90</td>\n",
       "      <td>15.14</td>\n",
       "      <td>musical_instruments</td>\n",
       "    </tr>\n",
       "    <tr>\n",
       "      <th>112643</th>\n",
       "      <td>880675dff2150932f1601e1c07eadeeb</td>\n",
       "      <td>47cd45a6ac7b9fb16537df2ccffeb5ac</td>\n",
       "      <td>delivered</td>\n",
       "      <td>2017-02-23 09:05:12</td>\n",
       "      <td>ea73128566d1b082e5101ce46f8107c7</td>\n",
       "      <td>139.90</td>\n",
       "      <td>16.09</td>\n",
       "      <td>furniture_decor</td>\n",
       "    </tr>\n",
       "    <tr>\n",
       "      <th>112644</th>\n",
       "      <td>9c5dedf39a927c1b2549525ed64a053c</td>\n",
       "      <td>39bd1228ee8140590ac3aca26f2dfe00</td>\n",
       "      <td>delivered</td>\n",
       "      <td>2017-03-09 09:54:05</td>\n",
       "      <td>ac35486adb7b02598c182c2ff2e05254</td>\n",
       "      <td>72.00</td>\n",
       "      <td>13.08</td>\n",
       "      <td>health_beauty</td>\n",
       "    </tr>\n",
       "    <tr>\n",
       "      <th>112645</th>\n",
       "      <td>63943bddc261676b46f01ca7ac2f7bd8</td>\n",
       "      <td>1fca14ff2861355f6e5f14306ff977a7</td>\n",
       "      <td>delivered</td>\n",
       "      <td>2018-02-06 12:58:58</td>\n",
       "      <td>f1d4ce8c6dd66c47bbaa8c6781c2a923</td>\n",
       "      <td>174.90</td>\n",
       "      <td>20.10</td>\n",
       "      <td>baby</td>\n",
       "    </tr>\n",
       "    <tr>\n",
       "      <th>112649</th>\n",
       "      <td>66dea50a8b16d9b4dee7af250b4be1a5</td>\n",
       "      <td>edb027a75a1449115f6b43211ae02a24</td>\n",
       "      <td>delivered</td>\n",
       "      <td>2018-03-08 20:57:30</td>\n",
       "      <td>006619bbed68b000c8ba3f8725d5409e</td>\n",
       "      <td>68.50</td>\n",
       "      <td>18.36</td>\n",
       "      <td>health_beauty</td>\n",
       "    </tr>\n",
       "  </tbody>\n",
       "</table>\n",
       "<p>95092 rows × 8 columns</p>\n",
       "</div>"
      ],
      "text/plain": [
       "                                order_id                       customer_id  \\\n",
       "0       e481f51cbdc54678b7cc49136f2d6af7  9ef432eb6251297304e76186b10a928d   \n",
       "1       53cdb2fc8bc7dce0b6741e2150273451  b0830fb4747a6c6d20dea0b8c802d7ef   \n",
       "2       47770eb9100c2d0c44946d9cf07ec65d  41ce2a54c0b03bf3443c3d931a367089   \n",
       "3       949d5b44dbf5de918fe9c16f97b45f8a  f88197465ea7920adcdbec7375364d82   \n",
       "4       ad21c59c0840e6cb83a9ceb5573f8159  8ab97904e6daea8866dbdbc4fb7aad2c   \n",
       "...                                  ...                               ...   \n",
       "112639  cfa78b997e329a5295b4ee6972c02979  a2f7428f0cafbc8e59f20e1444b67315   \n",
       "112643  880675dff2150932f1601e1c07eadeeb  47cd45a6ac7b9fb16537df2ccffeb5ac   \n",
       "112644  9c5dedf39a927c1b2549525ed64a053c  39bd1228ee8140590ac3aca26f2dfe00   \n",
       "112645  63943bddc261676b46f01ca7ac2f7bd8  1fca14ff2861355f6e5f14306ff977a7   \n",
       "112649  66dea50a8b16d9b4dee7af250b4be1a5  edb027a75a1449115f6b43211ae02a24   \n",
       "\n",
       "       order_status order_purchase_timestamp  \\\n",
       "0         delivered      2017-10-02 10:56:33   \n",
       "1         delivered      2018-07-24 20:41:37   \n",
       "2         delivered      2018-08-08 08:38:49   \n",
       "3         delivered      2017-11-18 19:28:06   \n",
       "4         delivered      2018-02-13 21:18:39   \n",
       "...             ...                      ...   \n",
       "112639    delivered      2017-12-20 09:52:41   \n",
       "112643    delivered      2017-02-23 09:05:12   \n",
       "112644    delivered      2017-03-09 09:54:05   \n",
       "112645    delivered      2018-02-06 12:58:58   \n",
       "112649    delivered      2018-03-08 20:57:30   \n",
       "\n",
       "                              product_id   price  freight_value  \\\n",
       "0       87285b34884572647811a353c7ac498a   29.99           8.72   \n",
       "1       595fac2a385ac33a80bd5114aec74eb8  118.70          22.76   \n",
       "2       aa4383b373c6aca5d8797843e5594415  159.90          19.22   \n",
       "3       d0b61bfb1de832b15ba9d266ca96e5b0   45.00          27.20   \n",
       "4       65266b2da20d04dbe00c5c2d3bb7859e   19.90           8.72   \n",
       "...                                  ...     ...            ...   \n",
       "112639  3d2c44374ee42b3003a470f3e937a2ea   55.90          15.14   \n",
       "112643  ea73128566d1b082e5101ce46f8107c7  139.90          16.09   \n",
       "112644  ac35486adb7b02598c182c2ff2e05254   72.00          13.08   \n",
       "112645  f1d4ce8c6dd66c47bbaa8c6781c2a923  174.90          20.10   \n",
       "112649  006619bbed68b000c8ba3f8725d5409e   68.50          18.36   \n",
       "\n",
       "       product_category_name_english  \n",
       "0                         housewares  \n",
       "1                          perfumery  \n",
       "2                               auto  \n",
       "3                           pet_shop  \n",
       "4                         stationery  \n",
       "...                              ...  \n",
       "112639           musical_instruments  \n",
       "112643               furniture_decor  \n",
       "112644                 health_beauty  \n",
       "112645                          baby  \n",
       "112649                 health_beauty  \n",
       "\n",
       "[95092 rows x 8 columns]"
      ]
     },
     "execution_count": 70,
     "metadata": {},
     "output_type": "execute_result"
    }
   ],
   "source": [
    "# o co chodziło?\n",
    "# ilość transackji na kilka miesięcy? średnia ich wartość?  "
   ]
  },
  {
   "cell_type": "markdown",
   "metadata": {},
   "source": [
    "przy robieniu kmeans warto sprawdzić czy po wyrzuceniu outlierów lub po standaryzacji (by otrzymać bliej rozkładu normalnego) nie ma lepszych wynków\n",
    "\n",
    "The solution might indeed be more stable with Gaussian distributed variables because the variance is sensitive to outliers. So outliers could certainly be driving the solutions you arrive at.\n",
    "My experience is that K-means, as with many traditional methods, is fairly robust to violations of normality when the magnitude of the noise is not large."
   ]
  }
 ],
 "metadata": {
  "interpreter": {
   "hash": "aee8b7b246df8f9039afb4144a1f6fd8d2ca17a180786b69acc140d282b71a49"
  },
  "kernelspec": {
   "display_name": "Python 3.8.2 64-bit",
   "language": "python",
   "name": "python3"
  },
  "language_info": {
   "codemirror_mode": {
    "name": "ipython",
    "version": 3
   },
   "file_extension": ".py",
   "mimetype": "text/x-python",
   "name": "python",
   "nbconvert_exporter": "python",
   "pygments_lexer": "ipython3",
   "version": "3.8.2"
  },
  "orig_nbformat": 4
 },
 "nbformat": 4,
 "nbformat_minor": 2
}
