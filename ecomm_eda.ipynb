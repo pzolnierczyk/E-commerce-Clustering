{
 "cells": [
  {
   "attachments": {},
   "cell_type": "markdown",
   "metadata": {},
   "source": [
    "## E-commerce data exploration\n",
    "\n",
    "#### Task description:\n",
    "***\n",
    "The goal is to explore provided data, understand it, create visualisations and make deductions of its nature.\n",
    "\n",
    "Initially the idea was to create various analyses using the dataset, as it had a big potential. Unfortunately, the EDA shows that the data is very limited. Many promising variables are either low-detailed or anonymized, which is understable as the data was shared publicly on the Internet. This, however, does not allow to drive trustworthy conculsions and it is explained in consecutive steps of the EDA why certain approches are senseless.  \n",
    "\n",
    "#### Data:\n",
    "***\n",
    "The dataset has information of 100k orders from 2016 to 2018 made at multiple marketplaces in Brazil. It was provided by Olist, the largest department store in Brazilian marketplaces. Olist connects small businesses from all over Brazil, which allows them to sell their products through the Olist Store and ship them directly to the customers using Olist logistics partners.\n",
    "\n",
    "The dataset is available publicly under CC BY-NC-SA 4.0 license. Further information can be found at https://www.kaggle.com/datasets/olistbr/brazilian-ecommerce."
   ]
  },
  {
   "cell_type": "code",
   "execution_count": 1,
   "metadata": {},
   "outputs": [],
   "source": [
    "import pandas as pd\n",
    "import numpy as np\n",
    "import matplotlib.pyplot as plt\n",
    "import seaborn as sns"
   ]
  },
  {
   "cell_type": "code",
   "execution_count": 2,
   "metadata": {},
   "outputs": [],
   "source": [
    "# Reading data\n",
    "dt_orders = pd.read_csv('data/olist_orders_dataset.csv', parse_dates=True)\n",
    "dt_pay = pd.read_csv('data/olist_order_payments_dataset.csv', parse_dates=True)\n",
    "dt_rev = pd.read_csv('data/olist_order_reviews_dataset.csv', parse_dates=True)\n",
    "dt_items = pd.read_csv('data/olist_order_items_dataset.csv', parse_dates=True)\n",
    "dt_prod = pd.read_csv('data/olist_products_dataset.csv', parse_dates=True)\n",
    "dt_cust = pd.read_csv('data/olist_customers_dataset.csv', parse_dates=True)\n",
    "dt_translation = pd.read_csv('data/product_category_name_translation.csv', parse_dates=True)\n",
    "# dt_sellers = pd.read_csv('data/olist_sellers_dataset.csv', parse_dates=True)\n",
    "\n",
    "# Joining \n",
    "full_df = dt_orders\\\n",
    "    .merge(dt_items, on='order_id', how='inner')\\\n",
    "    .merge(dt_prod, on='product_id', how='left')\\\n",
    "    .merge(dt_translation, on='product_category_name', how='left')\\\n",
    "    .drop('product_category_name', axis=1) #in portuguese"
   ]
  },
  {
   "cell_type": "code",
   "execution_count": 3,
   "metadata": {},
   "outputs": [
    {
     "data": {
      "text/plain": [
       "Index(['order_id', 'customer_id', 'order_status', 'order_purchase_timestamp',\n",
       "       'order_approved_at', 'order_delivered_carrier_date',\n",
       "       'order_delivered_customer_date', 'order_estimated_delivery_date',\n",
       "       'order_item_id', 'product_id', 'seller_id', 'shipping_limit_date',\n",
       "       'price', 'freight_value', 'product_name_lenght',\n",
       "       'product_description_lenght', 'product_photos_qty', 'product_weight_g',\n",
       "       'product_length_cm', 'product_height_cm', 'product_width_cm',\n",
       "       'product_category_name_english'],\n",
       "      dtype='object')"
      ]
     },
     "execution_count": 3,
     "metadata": {},
     "output_type": "execute_result"
    }
   ],
   "source": [
    "full_df.columns"
   ]
  },
  {
   "cell_type": "code",
   "execution_count": 3,
   "metadata": {},
   "outputs": [
    {
     "name": "stdout",
     "output_type": "stream",
     "text": [
      "                           order_id                       customer_id  \\\n",
      "0  e481f51cbdc54678b7cc49136f2d6af7  9ef432eb6251297304e76186b10a928d   \n",
      "1  53cdb2fc8bc7dce0b6741e2150273451  b0830fb4747a6c6d20dea0b8c802d7ef   \n",
      "2  47770eb9100c2d0c44946d9cf07ec65d  41ce2a54c0b03bf3443c3d931a367089   \n",
      "\n",
      "  order_status order_purchase_timestamp    order_approved_at  \\\n",
      "0    delivered      2017-10-02 10:56:33  2017-10-02 11:07:15   \n",
      "1    delivered      2018-07-24 20:41:37  2018-07-26 03:24:27   \n",
      "2    delivered      2018-08-08 08:38:49  2018-08-08 08:55:23   \n",
      "\n",
      "  order_delivered_carrier_date order_delivered_customer_date  \\\n",
      "0          2017-10-04 19:55:00           2017-10-10 21:25:13   \n",
      "1          2018-07-26 14:31:00           2018-08-07 15:27:45   \n",
      "2          2018-08-08 13:50:00           2018-08-17 18:06:29   \n",
      "\n",
      "  order_estimated_delivery_date  order_item_id  \\\n",
      "0           2017-10-18 00:00:00              1   \n",
      "1           2018-08-13 00:00:00              1   \n",
      "2           2018-09-04 00:00:00              1   \n",
      "\n",
      "                         product_id                         seller_id  \\\n",
      "0  87285b34884572647811a353c7ac498a  3504c0cb71d7fa48d967e0e4c94d59d9   \n",
      "1  595fac2a385ac33a80bd5114aec74eb8  289cdb325fb7e7f891c38608bf9e0962   \n",
      "2  aa4383b373c6aca5d8797843e5594415  4869f7a5dfa277a7dca6462dcf3b52b2   \n",
      "\n",
      "   shipping_limit_date   price  freight_value  product_name_lenght  \\\n",
      "0  2017-10-06 11:07:15   29.99           8.72                 40.0   \n",
      "1  2018-07-30 03:24:27  118.70          22.76                 29.0   \n",
      "2  2018-08-13 08:55:23  159.90          19.22                 46.0   \n",
      "\n",
      "   product_description_lenght  product_photos_qty  product_weight_g  \\\n",
      "0                       268.0                 4.0             500.0   \n",
      "1                       178.0                 1.0             400.0   \n",
      "2                       232.0                 1.0             420.0   \n",
      "\n",
      "   product_length_cm  product_height_cm  product_width_cm  \\\n",
      "0               19.0                8.0              13.0   \n",
      "1               19.0               13.0              19.0   \n",
      "2               24.0               19.0              21.0   \n",
      "\n",
      "  product_category_name_english  \n",
      "0                    housewares  \n",
      "1                     perfumery  \n",
      "2                          auto  \n"
     ]
    }
   ],
   "source": [
    "with pd.option_context('display.max_columns', None):\n",
    "    print (full_df.head(3))"
   ]
  },
  {
   "cell_type": "code",
   "execution_count": 5,
   "metadata": {},
   "outputs": [
    {
     "data": {
      "text/html": [
       "<div>\n",
       "<style scoped>\n",
       "    .dataframe tbody tr th:only-of-type {\n",
       "        vertical-align: middle;\n",
       "    }\n",
       "\n",
       "    .dataframe tbody tr th {\n",
       "        vertical-align: top;\n",
       "    }\n",
       "\n",
       "    .dataframe thead th {\n",
       "        text-align: right;\n",
       "    }\n",
       "</style>\n",
       "<table border=\"1\" class=\"dataframe\">\n",
       "  <thead>\n",
       "    <tr style=\"text-align: right;\">\n",
       "      <th></th>\n",
       "      <th>order_id</th>\n",
       "      <th>customer_id</th>\n",
       "      <th>order_status</th>\n",
       "      <th>order_purchase_timestamp</th>\n",
       "      <th>order_item_id</th>\n",
       "      <th>product_id</th>\n",
       "      <th>price</th>\n",
       "      <th>freight_value</th>\n",
       "      <th>product_description_lenght</th>\n",
       "      <th>product_category_name_english</th>\n",
       "    </tr>\n",
       "  </thead>\n",
       "  <tbody>\n",
       "    <tr>\n",
       "      <th>0</th>\n",
       "      <td>e481f51cbdc54678b7cc49136f2d6af7</td>\n",
       "      <td>9ef432eb6251297304e76186b10a928d</td>\n",
       "      <td>delivered</td>\n",
       "      <td>2017-10-02 10:56:33</td>\n",
       "      <td>1</td>\n",
       "      <td>87285b34884572647811a353c7ac498a</td>\n",
       "      <td>29.99</td>\n",
       "      <td>8.72</td>\n",
       "      <td>268.0</td>\n",
       "      <td>housewares</td>\n",
       "    </tr>\n",
       "    <tr>\n",
       "      <th>1</th>\n",
       "      <td>53cdb2fc8bc7dce0b6741e2150273451</td>\n",
       "      <td>b0830fb4747a6c6d20dea0b8c802d7ef</td>\n",
       "      <td>delivered</td>\n",
       "      <td>2018-07-24 20:41:37</td>\n",
       "      <td>1</td>\n",
       "      <td>595fac2a385ac33a80bd5114aec74eb8</td>\n",
       "      <td>118.70</td>\n",
       "      <td>22.76</td>\n",
       "      <td>178.0</td>\n",
       "      <td>perfumery</td>\n",
       "    </tr>\n",
       "    <tr>\n",
       "      <th>2</th>\n",
       "      <td>47770eb9100c2d0c44946d9cf07ec65d</td>\n",
       "      <td>41ce2a54c0b03bf3443c3d931a367089</td>\n",
       "      <td>delivered</td>\n",
       "      <td>2018-08-08 08:38:49</td>\n",
       "      <td>1</td>\n",
       "      <td>aa4383b373c6aca5d8797843e5594415</td>\n",
       "      <td>159.90</td>\n",
       "      <td>19.22</td>\n",
       "      <td>232.0</td>\n",
       "      <td>auto</td>\n",
       "    </tr>\n",
       "    <tr>\n",
       "      <th>3</th>\n",
       "      <td>949d5b44dbf5de918fe9c16f97b45f8a</td>\n",
       "      <td>f88197465ea7920adcdbec7375364d82</td>\n",
       "      <td>delivered</td>\n",
       "      <td>2017-11-18 19:28:06</td>\n",
       "      <td>1</td>\n",
       "      <td>d0b61bfb1de832b15ba9d266ca96e5b0</td>\n",
       "      <td>45.00</td>\n",
       "      <td>27.20</td>\n",
       "      <td>468.0</td>\n",
       "      <td>pet_shop</td>\n",
       "    </tr>\n",
       "    <tr>\n",
       "      <th>4</th>\n",
       "      <td>ad21c59c0840e6cb83a9ceb5573f8159</td>\n",
       "      <td>8ab97904e6daea8866dbdbc4fb7aad2c</td>\n",
       "      <td>delivered</td>\n",
       "      <td>2018-02-13 21:18:39</td>\n",
       "      <td>1</td>\n",
       "      <td>65266b2da20d04dbe00c5c2d3bb7859e</td>\n",
       "      <td>19.90</td>\n",
       "      <td>8.72</td>\n",
       "      <td>316.0</td>\n",
       "      <td>stationery</td>\n",
       "    </tr>\n",
       "  </tbody>\n",
       "</table>\n",
       "</div>"
      ],
      "text/plain": [
       "                           order_id                       customer_id  \\\n",
       "0  e481f51cbdc54678b7cc49136f2d6af7  9ef432eb6251297304e76186b10a928d   \n",
       "1  53cdb2fc8bc7dce0b6741e2150273451  b0830fb4747a6c6d20dea0b8c802d7ef   \n",
       "2  47770eb9100c2d0c44946d9cf07ec65d  41ce2a54c0b03bf3443c3d931a367089   \n",
       "3  949d5b44dbf5de918fe9c16f97b45f8a  f88197465ea7920adcdbec7375364d82   \n",
       "4  ad21c59c0840e6cb83a9ceb5573f8159  8ab97904e6daea8866dbdbc4fb7aad2c   \n",
       "\n",
       "  order_status order_purchase_timestamp  order_item_id  \\\n",
       "0    delivered      2017-10-02 10:56:33              1   \n",
       "1    delivered      2018-07-24 20:41:37              1   \n",
       "2    delivered      2018-08-08 08:38:49              1   \n",
       "3    delivered      2017-11-18 19:28:06              1   \n",
       "4    delivered      2018-02-13 21:18:39              1   \n",
       "\n",
       "                         product_id   price  freight_value  \\\n",
       "0  87285b34884572647811a353c7ac498a   29.99           8.72   \n",
       "1  595fac2a385ac33a80bd5114aec74eb8  118.70          22.76   \n",
       "2  aa4383b373c6aca5d8797843e5594415  159.90          19.22   \n",
       "3  d0b61bfb1de832b15ba9d266ca96e5b0   45.00          27.20   \n",
       "4  65266b2da20d04dbe00c5c2d3bb7859e   19.90           8.72   \n",
       "\n",
       "   product_description_lenght product_category_name_english  \n",
       "0                       268.0                    housewares  \n",
       "1                       178.0                     perfumery  \n",
       "2                       232.0                          auto  \n",
       "3                       468.0                      pet_shop  \n",
       "4                       316.0                    stationery  "
      ]
     },
     "execution_count": 5,
     "metadata": {},
     "output_type": "execute_result"
    }
   ],
   "source": [
    "# Filtering columns to those worth exploring in the beginning\n",
    "full_df = full_df[['order_id', 'customer_id', 'order_status', 'order_purchase_timestamp', 'order_item_id','product_id', 'price', 'freight_value','product_description_lenght','product_category_name_english']]\n",
    "full_df.head()"
   ]
  },
  {
   "cell_type": "markdown",
   "metadata": {},
   "source": [
    "### Exploratory data analysis"
   ]
  },
  {
   "cell_type": "code",
   "execution_count": 6,
   "metadata": {},
   "outputs": [
    {
     "name": "stdout",
     "output_type": "stream",
     "text": [
      "Table size (112650, 9)\n",
      "\n",
      "Max number of products bought at once:  21\n",
      "The most popular product: aca2eb7d00ea1a7b8ebd4e68314663af. Times bought: 527. Product category: furniture_decor\n"
     ]
    }
   ],
   "source": [
    "# Shape:\n",
    "print('Table size {}'.format(full_df.shape))\n",
    "\n",
    "print(\"\\nMax number of products bought at once: \", dt_items[['order_item_id']].max()[0])\n",
    "# print(\"\\nMax number of products bought at once: \",  dt_items['order_item_id'].value_counts().max())\n",
    "print(\"The most popular product: {}. Times bought: {}. Product category: {}\".format(\n",
    "    dt_items['product_id'].value_counts().index[0], dt_items['product_id'].value_counts().max(), \n",
    "    full_df[full_df.product_id=='aca2eb7d00ea1a7b8ebd4e68314663af']['product_category_name_english'].tolist()[0]\n",
    "    ))"
   ]
  },
  {
   "cell_type": "code",
   "execution_count": 7,
   "metadata": {},
   "outputs": [
    {
     "data": {
      "text/html": [
       "<div>\n",
       "<style scoped>\n",
       "    .dataframe tbody tr th:only-of-type {\n",
       "        vertical-align: middle;\n",
       "    }\n",
       "\n",
       "    .dataframe tbody tr th {\n",
       "        vertical-align: top;\n",
       "    }\n",
       "\n",
       "    .dataframe thead th {\n",
       "        text-align: right;\n",
       "    }\n",
       "</style>\n",
       "<table border=\"1\" class=\"dataframe\">\n",
       "  <thead>\n",
       "    <tr style=\"text-align: right;\">\n",
       "      <th></th>\n",
       "      <th>price</th>\n",
       "      <th>freight_value</th>\n",
       "    </tr>\n",
       "  </thead>\n",
       "  <tbody>\n",
       "    <tr>\n",
       "      <th>count</th>\n",
       "      <td>112650.000000</td>\n",
       "      <td>112650.000000</td>\n",
       "    </tr>\n",
       "    <tr>\n",
       "      <th>mean</th>\n",
       "      <td>120.653739</td>\n",
       "      <td>19.990320</td>\n",
       "    </tr>\n",
       "    <tr>\n",
       "      <th>std</th>\n",
       "      <td>183.633928</td>\n",
       "      <td>15.806405</td>\n",
       "    </tr>\n",
       "    <tr>\n",
       "      <th>min</th>\n",
       "      <td>0.850000</td>\n",
       "      <td>0.000000</td>\n",
       "    </tr>\n",
       "    <tr>\n",
       "      <th>25%</th>\n",
       "      <td>39.900000</td>\n",
       "      <td>13.080000</td>\n",
       "    </tr>\n",
       "    <tr>\n",
       "      <th>50%</th>\n",
       "      <td>74.990000</td>\n",
       "      <td>16.260000</td>\n",
       "    </tr>\n",
       "    <tr>\n",
       "      <th>75%</th>\n",
       "      <td>134.900000</td>\n",
       "      <td>21.150000</td>\n",
       "    </tr>\n",
       "    <tr>\n",
       "      <th>max</th>\n",
       "      <td>6735.000000</td>\n",
       "      <td>409.680000</td>\n",
       "    </tr>\n",
       "  </tbody>\n",
       "</table>\n",
       "</div>"
      ],
      "text/plain": [
       "               price  freight_value\n",
       "count  112650.000000  112650.000000\n",
       "mean      120.653739      19.990320\n",
       "std       183.633928      15.806405\n",
       "min         0.850000       0.000000\n",
       "25%        39.900000      13.080000\n",
       "50%        74.990000      16.260000\n",
       "75%       134.900000      21.150000\n",
       "max      6735.000000     409.680000"
      ]
     },
     "execution_count": 7,
     "metadata": {},
     "output_type": "execute_result"
    }
   ],
   "source": [
    "full_df.describe()"
   ]
  },
  {
   "cell_type": "markdown",
   "metadata": {},
   "source": [
    "### Dates"
   ]
  },
  {
   "cell_type": "code",
   "execution_count": 26,
   "metadata": {},
   "outputs": [
    {
     "name": "stdout",
     "output_type": "stream",
     "text": [
      "First transaction in dataset:  2016-09-04\n",
      "Last transaction in dataset:  2018-09-03\n",
      "First month in dataset and number of transactions:  2016-09    6\n",
      "Name: date, dtype: int64\n",
      "Last month in dataset and number of transactions:  2018-09    1\n",
      "Name: date, dtype: int64\n",
      "The month with the most transactions:  2017-11    8665\n",
      "Name: date, dtype: int64\n"
     ]
    }
   ],
   "source": [
    "full_df['date'] = full_df.order_purchase_timestamp.str[:10]\n",
    "print('First transaction in dataset: ', full_df.date.min())\n",
    "print('Last transaction in dataset: ', full_df.date.max())\n",
    "\n",
    "# Switching to monthly details \n",
    "full_df['date'] = full_df.order_purchase_timestamp.str[:7]\n",
    "# full_df['date'] = full_df['date']/a\n",
    "print('First month in dataset and number of transactions: ', full_df[full_df.date==full_df.date.min()]['date'].value_counts())\n",
    "print('Last month in dataset and number of transactions: ', full_df[full_df.date==full_df.date.max()]['date'].value_counts())\n",
    "print('The month with the most transactions: ', full_df['date'].value_counts()[:1:])"
   ]
  },
  {
   "cell_type": "code",
   "execution_count": 41,
   "metadata": {},
   "outputs": [
    {
     "data": {
      "text/plain": [
       "Text(0, 0.5, 'Count of transactions')"
      ]
     },
     "execution_count": 41,
     "metadata": {},
     "output_type": "execute_result"
    },
    {
     "data": {
      "image/png": "[encoded data removed]",
      "text/plain": [
       "<Figure size 1800x720 with 1 Axes>"
      ]
     },
     "metadata": {},
     "output_type": "display_data"
    }
   ],
   "source": [
    "fig,ax = plt.subplots(figsize=(25,10))\n",
    "sns.set(font_scale = 1.2)\n",
    "sns.lineplot(x = full_df['date'].value_counts().sort_index()[1:].index, y=full_df['date'].value_counts().sort_index()[1:])\n",
    "plt.xlabel('Date', fontsize=25)\n",
    "plt.ylabel('Count of transactions', fontsize=25)\n",
    "# ticks_all = full_df['date'].value_counts()[1:].index\n",
    "# ticks_sel = list(ticks_all[::2])\n",
    "# plt.xticks(ticks_sel)"
   ]
  },
  {
   "attachments": {},
   "cell_type": "markdown",
   "metadata": {},
   "source": [
    "The number of transactions at the beginning of the dataset is tiny, with just a few transactions per month. It is quickly increasing, with 2000 transactions in the 5th month. The peak is in November 2017 and it starts the best period for the website, with 7-8k transactions monthly. The last transaction in the dataset happens at the beginning of 2018-09, which means 2 years data was provided.\n",
    "\n",
    "It looks like the business has opened in 2016-09, which would explain the small number of purchases. But, as a lot of data manipulation and anonymization was performed before sharing, this would need to be confirmed by the data provider. \n",
    "\n",
    "Considering relatively short period which data covers and the characteristic for new businesses growing number of transactions, the above chart is not sufficient to state if seasonality (for example related to holidays) is present and deeper analysis would be needed."
   ]
  },
  {
   "cell_type": "markdown",
   "metadata": {},
   "source": [
    "### Customers"
   ]
  },
  {
   "cell_type": "code",
   "execution_count": 238,
   "metadata": {},
   "outputs": [
    {
     "name": "stdout",
     "output_type": "stream",
     "text": [
      "Maximum number of orders done by unique customer:  1\n"
     ]
    }
   ],
   "source": [
    "print('Maximum number of orders done by unique customer: ', dt_orders['customer_id'].value_counts().max())"
   ]
  },
  {
   "cell_type": "markdown",
   "metadata": {},
   "source": [
    "According to the data, no customer made more than one purchase ever. Because 2-years transactional data is available, the complete lack of returning or loyal customers is unlikely. This suggest that the anonymization of customers was on order level, not customer one.\n",
    "\n",
    "This unfortunately greatly reduces the possible analyses that could be done with this data.   "
   ]
  },
  {
   "cell_type": "markdown",
   "metadata": {},
   "source": [
    "### Products"
   ]
  },
  {
   "cell_type": "code",
   "execution_count": 8,
   "metadata": {},
   "outputs": [
    {
     "name": "stdout",
     "output_type": "stream",
     "text": [
      "Perc of products bought more than once product_id    0.450184\n",
      "dtype: float64\n",
      "Perc of products bought more than 10 times product_id    0.050621\n",
      "dtype: float64\n"
     ]
    }
   ],
   "source": [
    "dt_prod.count()\n",
    "prod_times_bought = pd.DataFrame(full_df.product_id.value_counts())\n",
    "print('Perc of products bought more than once', (prod_times_bought[prod_times_bought.product_id>1].count())/(dt_prod['product_id'].count()))\n",
    "print('Perc of products bought more than 10 times',(prod_times_bought[prod_times_bought.product_id>10].count())/(dt_prod['product_id'].count()))"
   ]
  },
  {
   "attachments": {},
   "cell_type": "markdown",
   "metadata": {},
   "source": [
    "It seems that products are not anonymized on individual purchased items, but rather on general order level - there are multiple transactions per product. However, almost half (45%) of items was purchased only once. This also limits the possible analyses."
   ]
  },
  {
   "cell_type": "code",
   "execution_count": 42,
   "metadata": {},
   "outputs": [
    {
     "data": {
      "text/html": [
       "<div>\n",
       "<style scoped>\n",
       "    .dataframe tbody tr th:only-of-type {\n",
       "        vertical-align: middle;\n",
       "    }\n",
       "\n",
       "    .dataframe tbody tr th {\n",
       "        vertical-align: top;\n",
       "    }\n",
       "\n",
       "    .dataframe thead th {\n",
       "        text-align: right;\n",
       "    }\n",
       "</style>\n",
       "<table border=\"1\" class=\"dataframe\">\n",
       "  <thead>\n",
       "    <tr style=\"text-align: right;\">\n",
       "      <th></th>\n",
       "      <th>order_id</th>\n",
       "      <th>customer_id</th>\n",
       "      <th>order_status</th>\n",
       "      <th>order_purchase_timestamp</th>\n",
       "      <th>order_item_id</th>\n",
       "      <th>product_id</th>\n",
       "      <th>price</th>\n",
       "      <th>freight_value</th>\n",
       "      <th>product_description_lenght</th>\n",
       "      <th>product_category_name_english</th>\n",
       "      <th>date</th>\n",
       "    </tr>\n",
       "  </thead>\n",
       "  <tbody>\n",
       "    <tr>\n",
       "      <th>0</th>\n",
       "      <td>e481f51cbdc54678b7cc49136f2d6af7</td>\n",
       "      <td>9ef432eb6251297304e76186b10a928d</td>\n",
       "      <td>delivered</td>\n",
       "      <td>2017-10-02 10:56:33</td>\n",
       "      <td>1</td>\n",
       "      <td>87285b34884572647811a353c7ac498a</td>\n",
       "      <td>29.99</td>\n",
       "      <td>8.72</td>\n",
       "      <td>268.0</td>\n",
       "      <td>housewares</td>\n",
       "      <td>2017-10</td>\n",
       "    </tr>\n",
       "    <tr>\n",
       "      <th>1</th>\n",
       "      <td>53cdb2fc8bc7dce0b6741e2150273451</td>\n",
       "      <td>b0830fb4747a6c6d20dea0b8c802d7ef</td>\n",
       "      <td>delivered</td>\n",
       "      <td>2018-07-24 20:41:37</td>\n",
       "      <td>1</td>\n",
       "      <td>595fac2a385ac33a80bd5114aec74eb8</td>\n",
       "      <td>118.70</td>\n",
       "      <td>22.76</td>\n",
       "      <td>178.0</td>\n",
       "      <td>perfumery</td>\n",
       "      <td>2018-07</td>\n",
       "    </tr>\n",
       "    <tr>\n",
       "      <th>2</th>\n",
       "      <td>47770eb9100c2d0c44946d9cf07ec65d</td>\n",
       "      <td>41ce2a54c0b03bf3443c3d931a367089</td>\n",
       "      <td>delivered</td>\n",
       "      <td>2018-08-08 08:38:49</td>\n",
       "      <td>1</td>\n",
       "      <td>aa4383b373c6aca5d8797843e5594415</td>\n",
       "      <td>159.90</td>\n",
       "      <td>19.22</td>\n",
       "      <td>232.0</td>\n",
       "      <td>auto</td>\n",
       "      <td>2018-08</td>\n",
       "    </tr>\n",
       "    <tr>\n",
       "      <th>3</th>\n",
       "      <td>949d5b44dbf5de918fe9c16f97b45f8a</td>\n",
       "      <td>f88197465ea7920adcdbec7375364d82</td>\n",
       "      <td>delivered</td>\n",
       "      <td>2017-11-18 19:28:06</td>\n",
       "      <td>1</td>\n",
       "      <td>d0b61bfb1de832b15ba9d266ca96e5b0</td>\n",
       "      <td>45.00</td>\n",
       "      <td>27.20</td>\n",
       "      <td>468.0</td>\n",
       "      <td>pet_shop</td>\n",
       "      <td>2017-11</td>\n",
       "    </tr>\n",
       "    <tr>\n",
       "      <th>4</th>\n",
       "      <td>ad21c59c0840e6cb83a9ceb5573f8159</td>\n",
       "      <td>8ab97904e6daea8866dbdbc4fb7aad2c</td>\n",
       "      <td>delivered</td>\n",
       "      <td>2018-02-13 21:18:39</td>\n",
       "      <td>1</td>\n",
       "      <td>65266b2da20d04dbe00c5c2d3bb7859e</td>\n",
       "      <td>19.90</td>\n",
       "      <td>8.72</td>\n",
       "      <td>316.0</td>\n",
       "      <td>stationery</td>\n",
       "      <td>2018-02</td>\n",
       "    </tr>\n",
       "  </tbody>\n",
       "</table>\n",
       "</div>"
      ],
      "text/plain": [
       "                           order_id                       customer_id  \\\n",
       "0  e481f51cbdc54678b7cc49136f2d6af7  9ef432eb6251297304e76186b10a928d   \n",
       "1  53cdb2fc8bc7dce0b6741e2150273451  b0830fb4747a6c6d20dea0b8c802d7ef   \n",
       "2  47770eb9100c2d0c44946d9cf07ec65d  41ce2a54c0b03bf3443c3d931a367089   \n",
       "3  949d5b44dbf5de918fe9c16f97b45f8a  f88197465ea7920adcdbec7375364d82   \n",
       "4  ad21c59c0840e6cb83a9ceb5573f8159  8ab97904e6daea8866dbdbc4fb7aad2c   \n",
       "\n",
       "  order_status order_purchase_timestamp  order_item_id  \\\n",
       "0    delivered      2017-10-02 10:56:33              1   \n",
       "1    delivered      2018-07-24 20:41:37              1   \n",
       "2    delivered      2018-08-08 08:38:49              1   \n",
       "3    delivered      2017-11-18 19:28:06              1   \n",
       "4    delivered      2018-02-13 21:18:39              1   \n",
       "\n",
       "                         product_id   price  freight_value  \\\n",
       "0  87285b34884572647811a353c7ac498a   29.99           8.72   \n",
       "1  595fac2a385ac33a80bd5114aec74eb8  118.70          22.76   \n",
       "2  aa4383b373c6aca5d8797843e5594415  159.90          19.22   \n",
       "3  d0b61bfb1de832b15ba9d266ca96e5b0   45.00          27.20   \n",
       "4  65266b2da20d04dbe00c5c2d3bb7859e   19.90           8.72   \n",
       "\n",
       "   product_description_lenght product_category_name_english     date  \n",
       "0                       268.0                    housewares  2017-10  \n",
       "1                       178.0                     perfumery  2018-07  \n",
       "2                       232.0                          auto  2018-08  \n",
       "3                       468.0                      pet_shop  2017-11  \n",
       "4                       316.0                    stationery  2018-02  "
      ]
     },
     "execution_count": 42,
     "metadata": {},
     "output_type": "execute_result"
    }
   ],
   "source": [
    "full_df.head(5)"
   ]
  },
  {
   "cell_type": "markdown",
   "metadata": {},
   "source": [
    "### Nulls"
   ]
  },
  {
   "cell_type": "code",
   "execution_count": 9,
   "metadata": {},
   "outputs": [
    {
     "data": {
      "text/plain": [
       "order_id                            0\n",
       "customer_id                         0\n",
       "order_status                        0\n",
       "order_purchase_timestamp            0\n",
       "product_id                          0\n",
       "price                               0\n",
       "freight_value                       0\n",
       "product_category_name_english    1627\n",
       "dtype: int64"
      ]
     },
     "execution_count": 9,
     "metadata": {},
     "output_type": "execute_result"
    }
   ],
   "source": [
    "full_df.isnull().sum()"
   ]
  },
  {
   "cell_type": "code",
   "execution_count": 28,
   "metadata": {},
   "outputs": [
    {
     "data": {
      "text/plain": [
       "71"
      ]
     },
     "execution_count": 28,
     "metadata": {},
     "output_type": "execute_result"
    }
   ],
   "source": [
    "full_df.product_category_name_english.nunique()"
   ]
  },
  {
   "cell_type": "markdown",
   "metadata": {},
   "source": [
    "The data has some missing values for product types, which is a categorical variable with 71 different values. The provided information in the dataset does not allow to 'find' them and perform any imputation. As in the first clustering this variable will not be used, right now this column is not a problem and dropping the nulls is not required (would cause losing 1% of data).\n",
    "\n",
    "However, this categorical variable variable is used later on and the missing values are there addressed.  "
   ]
  },
  {
   "cell_type": "markdown",
   "metadata": {},
   "source": [
    "### Outliers"
   ]
  },
  {
   "cell_type": "code",
   "execution_count": 4,
   "metadata": {},
   "outputs": [
    {
     "name": "stderr",
     "output_type": "stream",
     "text": [
      "<ipython-input-4-607cc362a5f1>:8: UserWarning: Matplotlib is currently using module://ipykernel.pylab.backend_inline, which is a non-GUI backend, so cannot show the figure.\n",
      "  fig.show()\n"
     ]
    },
    {
     "data": {
      "image/png": "[encoded data removed]",
      "text/plain": [
       "<Figure size 1152x864 with 2 Axes>"
      ]
     },
     "metadata": {
      "needs_background": "light"
     },
     "output_type": "display_data"
    }
   ],
   "source": [
    "fig,ax = plt.subplots(figsize=(14,10))\n",
    "fig, ax = plt.subplots(1,2)\n",
    "sns.set(style=\"whitegrid\", font_scale=2)\n",
    "sns.boxplot(data=full_df['price'], ax=ax[0]).set(xlabel='Price')\n",
    "sns.boxplot(data=full_df['freight_value'], ax=ax[1]).set(xlabel='Freight cost')\n",
    "fig.suptitle('Boxplots')\n",
    "fig.show()"
   ]
  },
  {
   "cell_type": "code",
   "execution_count": 73,
   "metadata": {},
   "outputs": [
    {
     "data": {
      "text/html": [
       "<div>\n",
       "<style scoped>\n",
       "    .dataframe tbody tr th:only-of-type {\n",
       "        vertical-align: middle;\n",
       "    }\n",
       "\n",
       "    .dataframe tbody tr th {\n",
       "        vertical-align: top;\n",
       "    }\n",
       "\n",
       "    .dataframe thead th {\n",
       "        text-align: right;\n",
       "    }\n",
       "</style>\n",
       "<table border=\"1\" class=\"dataframe\">\n",
       "  <thead>\n",
       "    <tr style=\"text-align: right;\">\n",
       "      <th></th>\n",
       "      <th>order_id</th>\n",
       "      <th>customer_id</th>\n",
       "      <th>order_status</th>\n",
       "      <th>order_purchase_timestamp</th>\n",
       "      <th>product_id</th>\n",
       "      <th>price</th>\n",
       "      <th>freight_value</th>\n",
       "      <th>product_category_name_english</th>\n",
       "    </tr>\n",
       "  </thead>\n",
       "  <tbody>\n",
       "    <tr>\n",
       "      <th>3925</th>\n",
       "      <td>f5136e38d1a14a4dbd87dff67da82701</td>\n",
       "      <td>3fd6777bbce08a352fddd04e4a7cc8f6</td>\n",
       "      <td>delivered</td>\n",
       "      <td>2017-05-24 18:14:34</td>\n",
       "      <td>1bdf5e6731585cf01aa8169c7028d6ad</td>\n",
       "      <td>6499.0</td>\n",
       "      <td>227.66</td>\n",
       "      <td>art</td>\n",
       "    </tr>\n",
       "    <tr>\n",
       "      <th>25071</th>\n",
       "      <td>0812eb902a67711a1cb742b3cdaa65ae</td>\n",
       "      <td>c6e2731c5b391845f6800c97401a43a9</td>\n",
       "      <td>delivered</td>\n",
       "      <td>2017-02-12 20:37:36</td>\n",
       "      <td>489ae2aa008f021502940f251d4cce7f</td>\n",
       "      <td>6735.0</td>\n",
       "      <td>194.31</td>\n",
       "      <td>housewares</td>\n",
       "    </tr>\n",
       "    <tr>\n",
       "      <th>32077</th>\n",
       "      <td>fefacc66af859508bf1a7934eab1e97f</td>\n",
       "      <td>f48d464a0baaea338cb25f816991ab1f</td>\n",
       "      <td>delivered</td>\n",
       "      <td>2018-07-25 18:10:17</td>\n",
       "      <td>69c590f7ffc7bf8db97190b6cb6ed62e</td>\n",
       "      <td>6729.0</td>\n",
       "      <td>193.21</td>\n",
       "      <td>computers</td>\n",
       "    </tr>\n",
       "  </tbody>\n",
       "</table>\n",
       "</div>"
      ],
      "text/plain": [
       "                               order_id                       customer_id  \\\n",
       "3925   f5136e38d1a14a4dbd87dff67da82701  3fd6777bbce08a352fddd04e4a7cc8f6   \n",
       "25071  0812eb902a67711a1cb742b3cdaa65ae  c6e2731c5b391845f6800c97401a43a9   \n",
       "32077  fefacc66af859508bf1a7934eab1e97f  f48d464a0baaea338cb25f816991ab1f   \n",
       "\n",
       "      order_status order_purchase_timestamp                        product_id  \\\n",
       "3925     delivered      2017-05-24 18:14:34  1bdf5e6731585cf01aa8169c7028d6ad   \n",
       "25071    delivered      2017-02-12 20:37:36  489ae2aa008f021502940f251d4cce7f   \n",
       "32077    delivered      2018-07-25 18:10:17  69c590f7ffc7bf8db97190b6cb6ed62e   \n",
       "\n",
       "        price  freight_value product_category_name_english  \n",
       "3925   6499.0         227.66                           art  \n",
       "25071  6735.0         194.31                    housewares  \n",
       "32077  6729.0         193.21                     computers  "
      ]
     },
     "execution_count": 73,
     "metadata": {},
     "output_type": "execute_result"
    }
   ],
   "source": [
    "full_df[full_df.price>5000]"
   ]
  },
  {
   "cell_type": "code",
   "execution_count": 74,
   "metadata": {},
   "outputs": [
    {
     "data": {
      "text/html": [
       "<div>\n",
       "<style scoped>\n",
       "    .dataframe tbody tr th:only-of-type {\n",
       "        vertical-align: middle;\n",
       "    }\n",
       "\n",
       "    .dataframe tbody tr th {\n",
       "        vertical-align: top;\n",
       "    }\n",
       "\n",
       "    .dataframe thead th {\n",
       "        text-align: right;\n",
       "    }\n",
       "</style>\n",
       "<table border=\"1\" class=\"dataframe\">\n",
       "  <thead>\n",
       "    <tr style=\"text-align: right;\">\n",
       "      <th></th>\n",
       "      <th>order_id</th>\n",
       "      <th>customer_id</th>\n",
       "      <th>order_status</th>\n",
       "      <th>order_purchase_timestamp</th>\n",
       "      <th>product_id</th>\n",
       "      <th>price</th>\n",
       "      <th>freight_value</th>\n",
       "      <th>product_category_name_english</th>\n",
       "    </tr>\n",
       "  </thead>\n",
       "  <tbody>\n",
       "    <tr>\n",
       "      <th>57086</th>\n",
       "      <td>a77e1550db865202c56b19ddc6dc4d53</td>\n",
       "      <td>4eed76c1aafeceac4250e202ca9b1a5a</td>\n",
       "      <td>delivered</td>\n",
       "      <td>2018-04-16 14:57:21</td>\n",
       "      <td>ec31d2a17b299511e7c8627be9337b9b</td>\n",
       "      <td>979.00</td>\n",
       "      <td>409.68</td>\n",
       "      <td>baby</td>\n",
       "    </tr>\n",
       "    <tr>\n",
       "      <th>84927</th>\n",
       "      <td>076d1555fb53a89b0ef4d529e527a0f6</td>\n",
       "      <td>f08306b95370e8d5f0d97b71229284b6</td>\n",
       "      <td>delivered</td>\n",
       "      <td>2018-07-30 10:04:21</td>\n",
       "      <td>a3cd9517ebf5a50dca25acce54f3b171</td>\n",
       "      <td>2338.08</td>\n",
       "      <td>375.28</td>\n",
       "      <td>housewares</td>\n",
       "    </tr>\n",
       "    <tr>\n",
       "      <th>111396</th>\n",
       "      <td>3fde74c28a3d5d618c00f26d51baafa0</td>\n",
       "      <td>f2c743697f9b2ff2902df23a16582d80</td>\n",
       "      <td>delivered</td>\n",
       "      <td>2018-08-13 14:07:50</td>\n",
       "      <td>a3cd9517ebf5a50dca25acce54f3b171</td>\n",
       "      <td>2338.08</td>\n",
       "      <td>375.28</td>\n",
       "      <td>housewares</td>\n",
       "    </tr>\n",
       "  </tbody>\n",
       "</table>\n",
       "</div>"
      ],
      "text/plain": [
       "                                order_id                       customer_id  \\\n",
       "57086   a77e1550db865202c56b19ddc6dc4d53  4eed76c1aafeceac4250e202ca9b1a5a   \n",
       "84927   076d1555fb53a89b0ef4d529e527a0f6  f08306b95370e8d5f0d97b71229284b6   \n",
       "111396  3fde74c28a3d5d618c00f26d51baafa0  f2c743697f9b2ff2902df23a16582d80   \n",
       "\n",
       "       order_status order_purchase_timestamp  \\\n",
       "57086     delivered      2018-04-16 14:57:21   \n",
       "84927     delivered      2018-07-30 10:04:21   \n",
       "111396    delivered      2018-08-13 14:07:50   \n",
       "\n",
       "                              product_id    price  freight_value  \\\n",
       "57086   ec31d2a17b299511e7c8627be9337b9b   979.00         409.68   \n",
       "84927   a3cd9517ebf5a50dca25acce54f3b171  2338.08         375.28   \n",
       "111396  a3cd9517ebf5a50dca25acce54f3b171  2338.08         375.28   \n",
       "\n",
       "       product_category_name_english  \n",
       "57086                           baby  \n",
       "84927                     housewares  \n",
       "111396                    housewares  "
      ]
     },
     "execution_count": 74,
     "metadata": {},
     "output_type": "execute_result"
    }
   ],
   "source": [
    "full_df[full_df.freight_value>350]"
   ]
  },
  {
   "cell_type": "code",
   "execution_count": 11,
   "metadata": {},
   "outputs": [],
   "source": [
    "iqr = full_df.quantile(0.75) - full_df.quantile(0.25)\n",
    "full_df_iqr = full_df[~((full_df < (full_df.quantile(0.25) - 1.5 * iqr)) |(full_df > (full_df.quantile(0.75) + 1.5 * iqr))).any(axis=1)]"
   ]
  },
  {
   "cell_type": "code",
   "execution_count": 12,
   "metadata": {},
   "outputs": [
    {
     "name": "stderr",
     "output_type": "stream",
     "text": [
      "<ipython-input-12-5a1fa1222804>:8: UserWarning: Matplotlib is currently using module://ipykernel.pylab.backend_inline, which is a non-GUI backend, so cannot show the figure.\n",
      "  fig.show()\n"
     ]
    },
    {
     "data": {
      "image/png": "[encoded data removed]",
      "text/plain": [
       "<Figure size 1152x864 with 2 Axes>"
      ]
     },
     "metadata": {
      "needs_background": "light"
     },
     "output_type": "display_data"
    }
   ],
   "source": [
    "plt.rcParams[\"figure.figsize\"] = (16,12)\n",
    "fig, ax = plt.subplots(1,2)\n",
    "sns.set(style=\"whitegrid\", font_scale=2)\n",
    "sns.boxplot(data=full_df_iqr['price'], ax=ax[0]).set(xlabel='Price')\n",
    "sns.boxplot(data=full_df_iqr['freight_value'], ax=ax[1]).set(xlabel='Freight cost')\n",
    "fig.suptitle('Boxplots - 1.5*IQR rule')\n",
    "fig.show()"
   ]
  },
  {
   "attachments": {},
   "cell_type": "markdown",
   "metadata": {},
   "source": [
    "There are multiple observations that fall outside of the interquartile ranges for the Price and Freight value. However, there are no reasons to believe these are faulty records. In fact, there are only a few values cleary outstanding from the rest of the population. "
   ]
  }
 ],
 "metadata": {
  "interpreter": {
   "hash": "aee8b7b246df8f9039afb4144a1f6fd8d2ca17a180786b69acc140d282b71a49"
  },
  "kernelspec": {
   "display_name": "Python 3.8.2 64-bit",
   "language": "python",
   "name": "python3"
  },
  "language_info": {
   "codemirror_mode": {
    "name": "ipython",
    "version": 3
   },
   "file_extension": ".py",
   "mimetype": "text/x-python",
   "name": "python",
   "nbconvert_exporter": "python",
   "pygments_lexer": "ipython3",
   "version": "3.8.2"
  },
  "orig_nbformat": 4
 },
 "nbformat": 4,
 "nbformat_minor": 2
}
